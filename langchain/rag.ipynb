{
 "cells": [
  {
   "cell_type": "code",
   "execution_count": 1,
   "id": "dcb2f30e",
   "metadata": {},
   "outputs": [
    {
     "name": "stdout",
     "output_type": "stream",
     "text": [
      "Hi\n"
     ]
    }
   ],
   "source": [
    "print(\"Hi\")"
   ]
  },
  {
   "cell_type": "code",
   "execution_count": 3,
   "id": "e1dbf8d2",
   "metadata": {},
   "outputs": [
    {
     "data": {
      "text/plain": [
       "[Document(metadata={'source': 'xform_framework.txt'}, page_content='#!/usr/bin/env python3\\n\"\"\"\\nFramework for Verilog code transformations using PyVerilog.\\nThis provides a base class for creating various transformations.\\n\"\"\"\\n\\nimport os\\nimport sys\\nimport argparse\\nfrom abc import ABC, abstractmethod\\nfrom pyverilog.vparser.parser import parse\\nfrom pyverilog.vparser.ast import *\\n\\n\\nclass XformBase(ABC):\\n    \"\"\"Base class for all transformations.\"\"\"\\n\\n    def __init__(self, name, description):\\n        \"\"\"\\n        Initialize the transformation.\\n\\n        Args:\\n            name (str): Name of the transformation\\n            description (str): Description of what the transformation does\\n        \"\"\"\\n        self.name = name\\n        self.description = description\\n        self.changes_made = []\\n\\n    @abstractmethod\\n    def visit(self, node):\\n        \"\"\"\\n        Visit an AST node and apply the transformation.\\n        This must be implemented by all transformation subclasses.\\n\\n        Args:\\n            node: The PyVerilog AST node to visit\\n        \"\"\"\\n        pass\\n\\n    def apply(self, ast):\\n        \"\"\"\\n        Apply the transformation to the AST.\\n\\n        Args:\\n            ast: The PyVerilog AST to transform\\n\\n        Returns:\\n            list: List of changes made during the transformation\\n        \"\"\"\\n        self.changes_made = []\\n        self.visit(ast)\\n        return self.changes_made\\n\\n    def __str__(self):\\n        return f\"{self.name}: {self.description}\"\\n\\n\\nclass XformRunner:\\n    \"\"\"Runner for applying transformations to Verilog code.\"\"\"\\n\\n    @staticmethod\\n    def run_xform(xform, input_file, output_file, **kwargs):\\n        \"\"\"\\n        Run a transformation on a Verilog file.\\n\\n        Args:\\n            xform (XformBase): The transformation to apply\\n            input_file (str): Path to input Verilog file\\n            output_file (str): Path to output Verilog file\\n            **kwargs: Additional arguments for the transformation\\n\\n        Returns:\\n            bool: True if successful, False otherwise\\n        \"\"\"\\n        try:\\n            # Parse the Verilog file to get the AST\\n            ast, directives = parse([input_file])\\n\\n            # Apply the transformation\\n            changes = xform.apply(ast)\\n\\n            # Check if any changes were made\\n            if not changes:\\n                print(f\"Warning: No changes made by {xform.name}\")\\n                return False\\n\\n            # Print summary of changes\\n            print(f\"Applied transformation: {xform}\")\\n            print(f\"Made {len(changes)} changes:\")\\n            for change in changes:\\n                print(f\"  - {change}\")\\n\\n            # Generate the modified Verilog code\\n            with open(output_file, \"w\") as f:\\n                f.write(ast.show())\\n\\n            print(f\"Output written to {output_file}\")\\n            return True\\n\\n        except Exception as e:\\n            print(f\"Error applying transformation {xform.name}: {e}\")\\n            return False\\n\\n    @staticmethod\\n    def run_xform_chain(xforms, input_file, output_file, **kwargs):\\n        \"\"\"\\n        Run a chain of transformations on a Verilog file.\\n\\n        Args:\\n            xforms (list): List of transformations to apply in sequence\\n            input_file (str): Path to input Verilog file\\n            output_file (str): Path to output Verilog file\\n            **kwargs: Additional arguments for the transformations\\n\\n        Returns:\\n            bool: True if all transformations were successful, False otherwise\\n        \"\"\"\\n        try:\\n            # Parse the Verilog file to get the AST\\n            ast, directives = parse([input_file])\\n\\n            all_changes = []\\n\\n            # Apply each transformation in sequence\\n            for xform in xforms:\\n                print(f\"Applying transformation: {xform}\")\\n                changes = xform.apply(ast)\\n\\n                if changes:\\n                    all_changes.extend(changes)\\n                    print(f\"  Made {len(changes)} changes\")\\n                else:\\n                    print(f\"  Warning: No changes made by {xform.name}\")\\n\\n            # Check if any changes were made\\n            if not all_changes:\\n                print(\"Warning: No changes made by any transformation\")\\n                return False\\n\\n            # Print summary of all changes\\n            print(f\"Applied {len(xforms)} transformations\")\\n            print(f\"Made {len(all_changes)} changes in total\")\\n\\n            # Generate the modified Verilog code\\n            with open(output_file, \"w\") as f:\\n                f.write(ast.show())\\n\\n            print(f\"Output written to {output_file}\")\\n            return True\\n\\n        except Exception as e:\\n            print(f\"Error applying transformation chain: {e}\")\\n            return False\\n\\n\\ndef main():\\n    \"\"\"\\n    Main function for command-line usage.\\n    This is just a placeholder - the framework is meant to be imported and used\\n    with specific transformations.\\n    \"\"\"\\n    print(\"This is a framework module and not meant to be run directly.\")\\n    print(\"Please import it and use it with specific transformations.\")\\n    return 0\\n\\n\\nif __name__ == \"__main__\":\\n    sys.exit(main())\\n')]"
      ]
     },
     "execution_count": 3,
     "metadata": {},
     "output_type": "execute_result"
    }
   ],
   "source": [
    "from langchain_community.document_loaders import TextLoader\n",
    "\n",
    "loader = TextLoader(\"xform_framework.txt\")\n",
    "text_documents = loader.load()\n",
    "text_documents"
   ]
  },
  {
   "cell_type": "code",
   "execution_count": 4,
   "id": "c2cc9d0d",
   "metadata": {},
   "outputs": [
    {
     "data": {
      "text/plain": [
       "[Document(metadata={'source': 'xform_framework.txt'}, page_content='#!/usr/bin/env python3\\n\"\"\"\\nFramework for Verilog code transformations using PyVerilog.\\nThis provides a base class for creating various transformations.\\n\"\"\"\\n\\nimport os\\nimport sys\\nimport argparse\\nfrom abc import ABC, abstractmethod\\nfrom pyverilog.vparser.parser import parse\\nfrom pyverilog.vparser.ast import *\\n\\n\\nclass XformBase(ABC):\\n    \"\"\"Base class for all transformations.\"\"\"\\n\\n    def __init__(self, name, description):\\n        \"\"\"\\n        Initialize the transformation.\\n\\n        Args:\\n            name (str): Name of the transformation\\n            description (str): Description of what the transformation does\\n        \"\"\"\\n        self.name = name\\n        self.description = description\\n        self.changes_made = []\\n\\n    @abstractmethod\\n    def visit(self, node):\\n        \"\"\"\\n        Visit an AST node and apply the transformation.\\n        This must be implemented by all transformation subclasses.\\n\\n        Args:\\n            node: The PyVerilog AST node to visit\\n        \"\"\"\\n        pass'),\n",
       " Document(metadata={'source': 'xform_framework.txt'}, page_content='Args:\\n            node: The PyVerilog AST node to visit\\n        \"\"\"\\n        pass\\n\\n    def apply(self, ast):\\n        \"\"\"\\n        Apply the transformation to the AST.\\n\\n        Args:\\n            ast: The PyVerilog AST to transform\\n\\n        Returns:\\n            list: List of changes made during the transformation\\n        \"\"\"\\n        self.changes_made = []\\n        self.visit(ast)\\n        return self.changes_made\\n\\n    def __str__(self):\\n        return f\"{self.name}: {self.description}\"\\n\\n\\nclass XformRunner:\\n    \"\"\"Runner for applying transformations to Verilog code.\"\"\"\\n\\n    @staticmethod\\n    def run_xform(xform, input_file, output_file, **kwargs):\\n        \"\"\"\\n        Run a transformation on a Verilog file.\\n\\n        Args:\\n            xform (XformBase): The transformation to apply\\n            input_file (str): Path to input Verilog file\\n            output_file (str): Path to output Verilog file\\n            **kwargs: Additional arguments for the transformation'),\n",
       " Document(metadata={'source': 'xform_framework.txt'}, page_content='Returns:\\n            bool: True if successful, False otherwise\\n        \"\"\"\\n        try:\\n            # Parse the Verilog file to get the AST\\n            ast, directives = parse([input_file])\\n\\n            # Apply the transformation\\n            changes = xform.apply(ast)\\n\\n            # Check if any changes were made\\n            if not changes:\\n                print(f\"Warning: No changes made by {xform.name}\")\\n                return False\\n\\n            # Print summary of changes\\n            print(f\"Applied transformation: {xform}\")\\n            print(f\"Made {len(changes)} changes:\")\\n            for change in changes:\\n                print(f\"  - {change}\")\\n\\n            # Generate the modified Verilog code\\n            with open(output_file, \"w\") as f:\\n                f.write(ast.show())\\n\\n            print(f\"Output written to {output_file}\")\\n            return True'),\n",
       " Document(metadata={'source': 'xform_framework.txt'}, page_content='print(f\"Output written to {output_file}\")\\n            return True\\n\\n        except Exception as e:\\n            print(f\"Error applying transformation {xform.name}: {e}\")\\n            return False\\n\\n    @staticmethod\\n    def run_xform_chain(xforms, input_file, output_file, **kwargs):\\n        \"\"\"\\n        Run a chain of transformations on a Verilog file.\\n\\n        Args:\\n            xforms (list): List of transformations to apply in sequence\\n            input_file (str): Path to input Verilog file\\n            output_file (str): Path to output Verilog file\\n            **kwargs: Additional arguments for the transformations\\n\\n        Returns:\\n            bool: True if all transformations were successful, False otherwise\\n        \"\"\"\\n        try:\\n            # Parse the Verilog file to get the AST\\n            ast, directives = parse([input_file])\\n\\n            all_changes = []'),\n",
       " Document(metadata={'source': 'xform_framework.txt'}, page_content='all_changes = []\\n\\n            # Apply each transformation in sequence\\n            for xform in xforms:\\n                print(f\"Applying transformation: {xform}\")\\n                changes = xform.apply(ast)\\n\\n                if changes:\\n                    all_changes.extend(changes)\\n                    print(f\"  Made {len(changes)} changes\")\\n                else:\\n                    print(f\"  Warning: No changes made by {xform.name}\")\\n\\n            # Check if any changes were made\\n            if not all_changes:\\n                print(\"Warning: No changes made by any transformation\")\\n                return False\\n\\n            # Print summary of all changes\\n            print(f\"Applied {len(xforms)} transformations\")\\n            print(f\"Made {len(all_changes)} changes in total\")\\n\\n            # Generate the modified Verilog code\\n            with open(output_file, \"w\") as f:\\n                f.write(ast.show())')]"
      ]
     },
     "execution_count": 4,
     "metadata": {},
     "output_type": "execute_result"
    }
   ],
   "source": [
    "from langchain.text_splitter import RecursiveCharacterTextSplitter\n",
    "text_splitter = RecursiveCharacterTextSplitter(\n",
    "    chunk_size=1000,\n",
    "    chunk_overlap=200,\n",
    "    length_function=len,\n",
    ")\n",
    "\n",
    "documents = text_splitter.split_documents(text_documents)\n",
    "documents[:5]"
   ]
  },
  {
   "cell_type": "code",
   "execution_count": null,
   "id": "909c5a2e",
   "metadata": {},
   "outputs": [
    {
     "ename": "ValidationError",
     "evalue": "1 validation error for OpenAIEmbeddings\n  Value error, Did not find openai_api_key, please add an environment variable `OPENAI_API_KEY` which contains it, or pass `openai_api_key` as a named parameter. [type=value_error, input_value={'model_kwargs': {}, 'cli...20, 'http_client': None}, input_type=dict]\n    For further information visit https://errors.pydantic.dev/2.11/v/value_error",
     "output_type": "error",
     "traceback": [
      "\u001b[31m---------------------------------------------------------------------------\u001b[39m",
      "\u001b[31mValidationError\u001b[39m                           Traceback (most recent call last)",
      "\u001b[36mCell\u001b[39m\u001b[36m \u001b[39m\u001b[32mIn[6]\u001b[39m\u001b[32m, line 4\u001b[39m\n\u001b[32m      1\u001b[39m \u001b[38;5;28;01mfrom\u001b[39;00m\u001b[38;5;250m \u001b[39m\u001b[34;01mlangchain_community\u001b[39;00m\u001b[34;01m.\u001b[39;00m\u001b[34;01membeddings\u001b[39;00m\u001b[38;5;250m \u001b[39m\u001b[38;5;28;01mimport\u001b[39;00m OpenAIEmbeddings\n\u001b[32m      2\u001b[39m \u001b[38;5;28;01mfrom\u001b[39;00m\u001b[38;5;250m \u001b[39m\u001b[34;01mlangchain_community\u001b[39;00m\u001b[34;01m.\u001b[39;00m\u001b[34;01mvectorstores\u001b[39;00m\u001b[38;5;250m \u001b[39m\u001b[38;5;28;01mimport\u001b[39;00m Chroma\n\u001b[32m----> \u001b[39m\u001b[32m4\u001b[39m db = Chroma.from_documents(documents[:\u001b[32m20\u001b[39m], \u001b[43mOpenAIEmbeddings\u001b[49m\u001b[43m(\u001b[49m\u001b[43m)\u001b[49m)\n",
      "\u001b[36mFile \u001b[39m\u001b[32md:\\Projects\\FYP\\Repo\\e19-4yp-Verilog-Code-Generation-With-Variations-Fine-Tuned-Large-Languag-Models\\venv\\Lib\\site-packages\\langchain_core\\_api\\deprecation.py:222\u001b[39m, in \u001b[36mdeprecated.<locals>.deprecate.<locals>.finalize.<locals>.warn_if_direct_instance\u001b[39m\u001b[34m(self, *args, **kwargs)\u001b[39m\n\u001b[32m    220\u001b[39m     warned = \u001b[38;5;28;01mTrue\u001b[39;00m\n\u001b[32m    221\u001b[39m     emit_warning()\n\u001b[32m--> \u001b[39m\u001b[32m222\u001b[39m \u001b[38;5;28;01mreturn\u001b[39;00m \u001b[43mwrapped\u001b[49m\u001b[43m(\u001b[49m\u001b[38;5;28;43mself\u001b[39;49m\u001b[43m,\u001b[49m\u001b[43m \u001b[49m\u001b[43m*\u001b[49m\u001b[43margs\u001b[49m\u001b[43m,\u001b[49m\u001b[43m \u001b[49m\u001b[43m*\u001b[49m\u001b[43m*\u001b[49m\u001b[43mkwargs\u001b[49m\u001b[43m)\u001b[49m\n",
      "\u001b[36mFile \u001b[39m\u001b[32md:\\Projects\\FYP\\Repo\\e19-4yp-Verilog-Code-Generation-With-Variations-Fine-Tuned-Large-Languag-Models\\venv\\Lib\\site-packages\\pydantic\\main.py:253\u001b[39m, in \u001b[36mBaseModel.__init__\u001b[39m\u001b[34m(self, **data)\u001b[39m\n\u001b[32m    251\u001b[39m \u001b[38;5;66;03m# `__tracebackhide__` tells pytest and some other tools to omit this function from tracebacks\u001b[39;00m\n\u001b[32m    252\u001b[39m __tracebackhide__ = \u001b[38;5;28;01mTrue\u001b[39;00m\n\u001b[32m--> \u001b[39m\u001b[32m253\u001b[39m validated_self = \u001b[38;5;28;43mself\u001b[39;49m\u001b[43m.\u001b[49m\u001b[43m__pydantic_validator__\u001b[49m\u001b[43m.\u001b[49m\u001b[43mvalidate_python\u001b[49m\u001b[43m(\u001b[49m\u001b[43mdata\u001b[49m\u001b[43m,\u001b[49m\u001b[43m \u001b[49m\u001b[43mself_instance\u001b[49m\u001b[43m=\u001b[49m\u001b[38;5;28;43mself\u001b[39;49m\u001b[43m)\u001b[49m\n\u001b[32m    254\u001b[39m \u001b[38;5;28;01mif\u001b[39;00m \u001b[38;5;28mself\u001b[39m \u001b[38;5;129;01mis\u001b[39;00m \u001b[38;5;129;01mnot\u001b[39;00m validated_self:\n\u001b[32m    255\u001b[39m     warnings.warn(\n\u001b[32m    256\u001b[39m         \u001b[33m'\u001b[39m\u001b[33mA custom validator is returning a value other than `self`.\u001b[39m\u001b[38;5;130;01m\\n\u001b[39;00m\u001b[33m'\u001b[39m\n\u001b[32m    257\u001b[39m         \u001b[33m\"\u001b[39m\u001b[33mReturning anything other than `self` from a top level model validator isn\u001b[39m\u001b[33m'\u001b[39m\u001b[33mt supported when validating via `__init__`.\u001b[39m\u001b[38;5;130;01m\\n\u001b[39;00m\u001b[33m\"\u001b[39m\n\u001b[32m    258\u001b[39m         \u001b[33m'\u001b[39m\u001b[33mSee the `model_validator` docs (https://docs.pydantic.dev/latest/concepts/validators/#model-validators) for more details.\u001b[39m\u001b[33m'\u001b[39m,\n\u001b[32m    259\u001b[39m         stacklevel=\u001b[32m2\u001b[39m,\n\u001b[32m    260\u001b[39m     )\n",
      "\u001b[31mValidationError\u001b[39m: 1 validation error for OpenAIEmbeddings\n  Value error, Did not find openai_api_key, please add an environment variable `OPENAI_API_KEY` which contains it, or pass `openai_api_key` as a named parameter. [type=value_error, input_value={'model_kwargs': {}, 'cli...20, 'http_client': None}, input_type=dict]\n    For further information visit https://errors.pydantic.dev/2.11/v/value_error"
     ]
    }
   ],
   "source": [
    "from langchain_community.embeddings import OpenAIEmbeddings\n",
    "from langchain_community.vectorstores import Chroma\n",
    "\n",
    "db = Chroma.from_documents(documents[:20], OpenAIEmbeddings())"
   ]
  },
  {
   "cell_type": "code",
   "execution_count": null,
   "id": "76ab8efa",
   "metadata": {},
   "outputs": [],
   "source": []
  }
 ],
 "metadata": {
  "kernelspec": {
   "display_name": "venv",
   "language": "python",
   "name": "python3"
  },
  "language_info": {
   "codemirror_mode": {
    "name": "ipython",
    "version": 3
   },
   "file_extension": ".py",
   "mimetype": "text/x-python",
   "name": "python",
   "nbconvert_exporter": "python",
   "pygments_lexer": "ipython3",
   "version": "3.12.0"
  }
 },
 "nbformat": 4,
 "nbformat_minor": 5
}
