{
  "nbformat": 4,
  "nbformat_minor": 0,
  "metadata": {
    "colab": {
      "provenance": []
    },
    "kernelspec": {
      "name": "python3",
      "display_name": "Python 3"
    },
    "language_info": {
      "name": "python"
    }
  },
  "cells": [
    {
      "cell_type": "markdown",
      "source": [
        "1. Python"
      ],
      "metadata": {
        "id": "GQr_3tlUKQuQ"
      }
    },
    {
      "cell_type": "code",
      "source": [
        "# Note: Install Pylint in Colab\n",
        "!pip install pylint"
      ],
      "metadata": {
        "colab": {
          "base_uri": "https://localhost:8080/"
        },
        "id": "o4dW6XisKgLN",
        "outputId": "23347998-8c44-4172-b632-be22ec59b141"
      },
      "execution_count": null,
      "outputs": [
        {
          "output_type": "stream",
          "name": "stdout",
          "text": [
            "Collecting pylint\n",
            "  Downloading pylint-3.3.7-py3-none-any.whl.metadata (12 kB)\n",
            "Collecting astroid<=3.4.0.dev0,>=3.3.8 (from pylint)\n",
            "  Downloading astroid-3.3.10-py3-none-any.whl.metadata (4.4 kB)\n",
            "Requirement already satisfied: dill>=0.3.6 in /usr/local/lib/python3.11/dist-packages (from pylint) (0.3.7)\n",
            "Collecting isort!=5.13,<7,>=4.2.5 (from pylint)\n",
            "  Downloading isort-6.0.1-py3-none-any.whl.metadata (11 kB)\n",
            "Collecting mccabe<0.8,>=0.6 (from pylint)\n",
            "  Downloading mccabe-0.7.0-py2.py3-none-any.whl.metadata (5.0 kB)\n",
            "Requirement already satisfied: platformdirs>=2.2 in /usr/local/lib/python3.11/dist-packages (from pylint) (4.3.8)\n",
            "Collecting tomlkit>=0.10.1 (from pylint)\n",
            "  Downloading tomlkit-0.13.2-py3-none-any.whl.metadata (2.7 kB)\n",
            "Downloading pylint-3.3.7-py3-none-any.whl (522 kB)\n",
            "\u001b[2K   \u001b[90m━━━━━━━━━━━━━━━━━━━━━━━━━━━━━━━━━━━━━━━━\u001b[0m \u001b[32m522.6/522.6 kB\u001b[0m \u001b[31m8.0 MB/s\u001b[0m eta \u001b[36m0:00:00\u001b[0m\n",
            "\u001b[?25hDownloading astroid-3.3.10-py3-none-any.whl (275 kB)\n",
            "\u001b[2K   \u001b[90m━━━━━━━━━━━━━━━━━━━━━━━━━━━━━━━━━━━━━━━━\u001b[0m \u001b[32m275.4/275.4 kB\u001b[0m \u001b[31m19.4 MB/s\u001b[0m eta \u001b[36m0:00:00\u001b[0m\n",
            "\u001b[?25hDownloading isort-6.0.1-py3-none-any.whl (94 kB)\n",
            "\u001b[2K   \u001b[90m━━━━━━━━━━━━━━━━━━━━━━━━━━━━━━━━━━━━━━━━\u001b[0m \u001b[32m94.2/94.2 kB\u001b[0m \u001b[31m6.8 MB/s\u001b[0m eta \u001b[36m0:00:00\u001b[0m\n",
            "\u001b[?25hDownloading mccabe-0.7.0-py2.py3-none-any.whl (7.3 kB)\n",
            "Downloading tomlkit-0.13.2-py3-none-any.whl (37 kB)\n",
            "Installing collected packages: tomlkit, mccabe, isort, astroid, pylint\n",
            "Successfully installed astroid-3.3.10 isort-6.0.1 mccabe-0.7.0 pylint-3.3.7 tomlkit-0.13.2\n"
          ]
        }
      ]
    },
    {
      "cell_type": "code",
      "execution_count": null,
      "metadata": {
        "colab": {
          "base_uri": "https://localhost:8080/"
        },
        "id": "DT3vgRyTKC3s",
        "outputId": "eaf9389c-ea60-4c68-c93c-338dbe436817"
      },
      "outputs": [
        {
          "output_type": "stream",
          "name": "stdout",
          "text": [
            "Syntax error in Python code:   File \"/content/sample_python.py\", line 2\n",
            "    def add(a, b)\n",
            "                 ^\n",
            "SyntaxError: expected ':'\n",
            "\n",
            "Pylint detected issues: 0\n"
          ]
        }
      ],
      "source": [
        "# Colab script to check syntactic correctness of Python code\n",
        "import py_compile\n",
        "import pylint.lint\n",
        "import os\n",
        "\n",
        "# Example Python code (save as a file)\n",
        "python_code = \"\"\"\n",
        "def add(a, b)\n",
        "    return a + b\n",
        "\"\"\"\n",
        "\n",
        "# Save the code to a file\n",
        "with open('/content/sample_python.py', 'w') as f:\n",
        "    f.write(python_code)\n",
        "\n",
        "# Check syntactic correctness using py_compile\n",
        "try:\n",
        "    py_compile.compile('/content/sample_python.py', doraise=True)\n",
        "    print(\"Python code is syntactically correct (py_compile check passed).\")\n",
        "except py_compile.PyCompileError as e:\n",
        "    print(f\"Syntax error in Python code: {e}\")\n",
        "\n",
        "# Check with Pylint for additional style/syntax issues\n",
        "try:\n",
        "    pylint_args = ['--errors-only', '/content/sample_python.py']\n",
        "    pylint.lint.Run(pylint_args)\n",
        "    print(\"Pylint check passed (no syntax errors).\")\n",
        "except SystemExit as e:\n",
        "    print(f\"Pylint detected issues: {e}\")"
      ]
    },
    {
      "cell_type": "code",
      "source": [
        "# Colab script to check functional correctness of Python code\n",
        "import unittest\n",
        "import os\n",
        "\n",
        "# Example Python code (e.g., generated function)\n",
        "python_code = \"\"\"\n",
        "def add(a, b):\n",
        "    return a + b\n",
        "\"\"\"\n",
        "\n",
        "# Save the code to a file\n",
        "with open('/content/sample_python.py', 'w') as f:\n",
        "    f.write(python_code)\n",
        "\n",
        "# Unit test script\n",
        "test_code = \"\"\"\n",
        "import unittest\n",
        "from sample_python import add\n",
        "\n",
        "class TestAddFunction(unittest.TestCase):\n",
        "    def test_add_positive(self):\n",
        "        self.assertEqual(add(2, 3), 5)\n",
        "    def test_add_negative(self):\n",
        "        self.assertEqual(add(-1, -2), -3)\n",
        "    def test_add_zero(self):\n",
        "        self.assertEqual(add(0, 5), 5)\n",
        "\n",
        "if __name__ == '__main__':\n",
        "    unittest.main()\n",
        "\"\"\"\n",
        "\n",
        "# Save the test script\n",
        "with open('/content/test_sample_python.py', 'w') as f:\n",
        "    f.write(test_code)\n",
        "\n",
        "# Run the tests\n",
        "!python /content/test_sample_python.py"
      ],
      "metadata": {
        "colab": {
          "base_uri": "https://localhost:8080/"
        },
        "id": "FxS5AoU2P44B",
        "outputId": "27c887c1-a461-4a73-f3d0-38414973af99"
      },
      "execution_count": null,
      "outputs": [
        {
          "output_type": "stream",
          "name": "stdout",
          "text": [
            "...\n",
            "----------------------------------------------------------------------\n",
            "Ran 3 tests in 0.000s\n",
            "\n",
            "OK\n"
          ]
        }
      ]
    },
    {
      "cell_type": "code",
      "source": [
        "# Colab script to check runtime and memory usage of Python code\n",
        "!pip install memory_profiler\n",
        "\n",
        "import time\n",
        "import memory_profiler\n",
        "import os\n",
        "\n",
        "# Example Python code (e.g., generated function)\n",
        "python_code = \"\"\"\n",
        "def add(a, b):\n",
        "    result = 0\n",
        "    for _ in range(1000):  # Simulate some computation\n",
        "        result += a + b\n",
        "    return result\n",
        "\"\"\"\n",
        "\n",
        "# Save the code to a file\n",
        "with open('/content/sample_python.py', 'w') as f:\n",
        "    f.write(python_code)\n",
        "\n",
        "# Test script to measure runtime and memory\n",
        "test_code = \"\"\"\n",
        "from memory_profiler import profile\n",
        "from sample_python import add\n",
        "\n",
        "@profile\n",
        "def run_test():\n",
        "    result = add(2, 3)\n",
        "    return result\n",
        "\n",
        "if __name__ == '__main__':\n",
        "    import time\n",
        "    start_time = time.perf_counter()\n",
        "    result = run_test()\n",
        "    end_time = time.perf_counter()\n",
        "    print(f\"Runtime: {end_time - start_time:.6f} seconds\")\n",
        "    print(f\"Result: {result}\")\n",
        "\"\"\"\n",
        "\n",
        "# Save test script\n",
        "with open('/content/test_sample_python.py', 'w') as f:\n",
        "    f.write(test_code)\n",
        "\n",
        "# Run the test\n",
        "!python /content/test_sample_python.py"
      ],
      "metadata": {
        "colab": {
          "base_uri": "https://localhost:8080/"
        },
        "id": "1ZEZHas3SrUq",
        "outputId": "f5c8e0ee-1b68-469d-8088-9c8228d40f28"
      },
      "execution_count": null,
      "outputs": [
        {
          "output_type": "stream",
          "name": "stdout",
          "text": [
            "Collecting memory_profiler\n",
            "  Downloading memory_profiler-0.61.0-py3-none-any.whl.metadata (20 kB)\n",
            "Requirement already satisfied: psutil in /usr/local/lib/python3.11/dist-packages (from memory_profiler) (5.9.5)\n",
            "Downloading memory_profiler-0.61.0-py3-none-any.whl (31 kB)\n",
            "Installing collected packages: memory_profiler\n",
            "Successfully installed memory_profiler-0.61.0\n",
            "Filename: /content/test_sample_python.py\n",
            "\n",
            "Line #    Mem usage    Increment  Occurrences   Line Contents\n",
            "=============================================================\n",
            "     5     41.5 MiB     41.5 MiB           1   @profile\n",
            "     6                                         def run_test():\n",
            "     7     41.5 MiB      0.0 MiB           1       result = add(2, 3)\n",
            "     8     41.5 MiB      0.0 MiB           1       return result\n",
            "\n",
            "\n",
            "Runtime: 0.038966 seconds\n",
            "Result: 5000\n"
          ]
        }
      ]
    },
    {
      "cell_type": "code",
      "source": [
        "import ast\n",
        "import os\n",
        "\n",
        "# Example generated Python code\n",
        "python_code = \"\"\"\n",
        "def add(a, b):\n",
        "    return a + b\n",
        "\"\"\"\n",
        "\n",
        "# Save the code\n",
        "with open('/content/sample_python.py', 'w') as f:\n",
        "    f.write(python_code)\n",
        "\n",
        "# Specification: Function named 'add' with two parameters, returns sum\n",
        "def check_python_spec(file_path):\n",
        "    try:\n",
        "        with open(file_path, 'r') as f:\n",
        "            tree = ast.parse(f.read())\n",
        "\n",
        "        # Check for function named 'add'\n",
        "        function_found = False\n",
        "        param_count = 0\n",
        "        returns_sum = False\n",
        "\n",
        "        for node in ast.walk(tree):\n",
        "            if isinstance(node, ast.FunctionDef):\n",
        "                if node.name == 'add':\n",
        "                    function_found = True\n",
        "                    param_count = len(node.args.args)\n",
        "                    # Check if body contains return a + b\n",
        "                    for stmt in node.body:\n",
        "                        if isinstance(stmt, ast.Return):\n",
        "                            if isinstance(stmt.value, ast.BinOp) and isinstance(stmt.value.op, ast.Add):\n",
        "                                if (isinstance(stmt.value.left, ast.Name) and stmt.value.left.id == 'a' and\n",
        "                                    isinstance(stmt.value.right, ast.Name) and stmt.value.right.id == 'b'):\n",
        "                                    returns_sum = True\n",
        "\n",
        "        if function_found and param_count == 2 and returns_sum:\n",
        "            print(\"Python code adheres to specification: Function 'add' with two parameters returning a + b.\")\n",
        "        else:\n",
        "            print(f\"Specification check failed: Function found={function_found}, Param count={param_count}, Returns sum={returns_sum}\")\n",
        "    except SyntaxError as e:\n",
        "        print(f\"Syntax error in Python code: {e}\")\n",
        "\n",
        "# Run check\n",
        "check_python_spec('/content/sample_python.py')"
      ],
      "metadata": {
        "colab": {
          "base_uri": "https://localhost:8080/"
        },
        "id": "380iuGMzWTam",
        "outputId": "57d1fa03-1063-42a3-f8e8-a2120fa9cc50"
      },
      "execution_count": null,
      "outputs": [
        {
          "output_type": "stream",
          "name": "stdout",
          "text": [
            "Python code adheres to specification: Function 'add' with two parameters returning a + b.\n"
          ]
        }
      ]
    },
    {
      "cell_type": "code",
      "source": [
        "!pip install pylint\n",
        "\n",
        "import pylint.lint\n",
        "import os\n",
        "\n",
        "# Example Python code (e.g., generated function)\n",
        "python_code = \"\"\"\n",
        "def add(a, b):\n",
        "    return a + b\n",
        "\"\"\"\n",
        "\n",
        "# Save the code\n",
        "with open('/content/sample_python.py', 'w') as f:\n",
        "    f.write(python_code)\n",
        "\n",
        "# Run Pylint for readability check\n",
        "try:\n",
        "    pylint_args = ['--disable=all', '--enable=invalid-name,missing-docstring,missing-function-docstring,too-few-public-methods', '/content/sample_python.py']\n",
        "    pylint.lint.Run(pylint_args)\n",
        "    print(\"Pylint readability check completed. See output for details.\")\n",
        "except SystemExit as e:\n",
        "    print(f\"Pylint readability check completed with issues: {e}\")"
      ],
      "metadata": {
        "colab": {
          "base_uri": "https://localhost:8080/"
        },
        "id": "Bhab0n94YD3g",
        "outputId": "047ba1b2-981b-4501-f5bd-ec08c9ae6793"
      },
      "execution_count": null,
      "outputs": [
        {
          "output_type": "stream",
          "name": "stdout",
          "text": [
            "Requirement already satisfied: pylint in /usr/local/lib/python3.11/dist-packages (3.3.7)\n",
            "Requirement already satisfied: astroid<=3.4.0.dev0,>=3.3.8 in /usr/local/lib/python3.11/dist-packages (from pylint) (3.3.10)\n",
            "Requirement already satisfied: dill>=0.3.6 in /usr/local/lib/python3.11/dist-packages (from pylint) (0.3.7)\n",
            "Requirement already satisfied: isort!=5.13,<7,>=4.2.5 in /usr/local/lib/python3.11/dist-packages (from pylint) (6.0.1)\n",
            "Requirement already satisfied: mccabe<0.8,>=0.6 in /usr/local/lib/python3.11/dist-packages (from pylint) (0.7.0)\n",
            "Requirement already satisfied: platformdirs>=2.2 in /usr/local/lib/python3.11/dist-packages (from pylint) (4.3.8)\n",
            "Requirement already satisfied: tomlkit>=0.10.1 in /usr/local/lib/python3.11/dist-packages (from pylint) (0.13.2)\n",
            "************* Module sample_python\n",
            "sample_python.py:1:0: C0114: Missing module docstring (missing-module-docstring)\n",
            "sample_python.py:2:0: C0116: Missing function or method docstring (missing-function-docstring)\n",
            "\n",
            "-----------------------------------\n",
            "Your code has been rated at 0.00/10\n",
            "\n",
            "Pylint readability check completed with issues: 16\n"
          ]
        }
      ]
    },
    {
      "cell_type": "markdown",
      "source": [
        "2. Verilog"
      ],
      "metadata": {
        "id": "IKQhFpywLFNJ"
      }
    },
    {
      "cell_type": "code",
      "source": [
        "# Colab script to check syntactic correctness of Verilog code\n",
        "!pip install pyverilog\n",
        "\n",
        "from pyverilog.vparser.parser import parse\n",
        "\n",
        "# Example Verilog code (AND gate)\n",
        "verilog_code = \"\"\"\n",
        "module and_gate (\n",
        "    input wire a,\n",
        "    input wire b,\n",
        "    output wire y\n",
        ");\n",
        "    assign y = a & b;\n",
        "endmodule\n",
        "\"\"\"\n",
        "\n",
        "# Save the code to a file\n",
        "with open('/content/and_gate.v', 'w') as f:\n",
        "    f.write(verilog_code)\n",
        "\n",
        "# Check syntactic correctness using Pyverilog\n",
        "try:\n",
        "    ast, directives = parse(['/content/and_gate.v'])\n",
        "    print(\"Verilog code is syntactically correct (Pyverilog parse passed).\")\n",
        "except Exception as e:\n",
        "    print(f\"Syntax error in Verilog code: {e}\")\n",
        "\n",
        "# Note: For local execution with Verilator\n",
        "# Run: verilator --lint-only and_gate.v\n",
        "# Expected output if correct: No syntax errors detected"
      ],
      "metadata": {
        "colab": {
          "base_uri": "https://localhost:8080/"
        },
        "id": "-frG69x3LJpS",
        "outputId": "1a2b54f6-7dc2-4d86-81e7-fa8b13dbe7f7"
      },
      "execution_count": null,
      "outputs": [
        {
          "output_type": "stream",
          "name": "stdout",
          "text": [
            "Requirement already satisfied: pyverilog in /usr/local/lib/python3.11/dist-packages (1.3.0)\n",
            "Requirement already satisfied: Jinja2>=2.10 in /usr/local/lib/python3.11/dist-packages (from pyverilog) (3.1.6)\n",
            "Requirement already satisfied: ply>=3.4 in /usr/local/lib/python3.11/dist-packages (from pyverilog) (3.11)\n",
            "Requirement already satisfied: MarkupSafe>=2.0 in /usr/local/lib/python3.11/dist-packages (from Jinja2>=2.10->pyverilog) (3.0.2)\n"
          ]
        },
        {
          "output_type": "stream",
          "name": "stderr",
          "text": [
            "Generating LALR tables\n"
          ]
        },
        {
          "output_type": "stream",
          "name": "stdout",
          "text": [
            "Syntax error in Verilog code: [Errno 2] No such file or directory: 'iverilog'\n"
          ]
        },
        {
          "output_type": "stream",
          "name": "stderr",
          "text": [
            "WARNING: 183 shift/reduce conflicts\n"
          ]
        }
      ]
    },
    {
      "cell_type": "code",
      "source": [
        "# Colab script to check functional correctness of Verilog code (limited to AST validation)\n",
        "!pip install pyverilog\n",
        "\n",
        "from pyverilog.vparser.parser import parse\n",
        "\n",
        "# Example Verilog code (AND gate)\n",
        "verilog_code = \"\"\"\n",
        "module and_gate (\n",
        "    input wire a,\n",
        "    input wire b,\n",
        "    output wire y\n",
        ");\n",
        "    assign y = a & b;\n",
        "endmodule\n",
        "\"\"\"\n",
        "\n",
        "# Save the Verilog code\n",
        "with open('/content/and_gate.v', 'w') as f:\n",
        "    f.write(verilog_code)\n",
        "\n",
        "# Check AST for basic functional validation (e.g., correct operation)\n",
        "try:\n",
        "    ast, directives = parse(['/content/and_gate.v'])\n",
        "    for item in ast.description.items:\n",
        "        for decl in item.items:\n",
        "            if isinstance(decl, pyverilog.vparser.ast.Assign):\n",
        "                if str(decl.right) == \"a & b\":\n",
        "                    print(\"Verilog code has correct AND operation (AST check passed).\")\n",
        "                else:\n",
        "                    print(\"Incorrect operation in Verilog code.\")\n",
        "except Exception as e:\n",
        "    print(f\"Error parsing Verilog code: {e}\")\n",
        "\n",
        "# Testbench for local execution with Verilator\n",
        "testbench_code = \"\"\"\n",
        "module tb_and_gate;\n",
        "    reg a, b;\n",
        "    wire y;\n",
        "    and_gate dut (.a(a), .b(b), .y(y));\n",
        "    initial begin\n",
        "        $monitor(\"a=%b, b=%b, y=%b\", a, b, y);\n",
        "        a = 0; b = 0; #10;\n",
        "        a = 0; b = 1; #10;\n",
        "        a = 1; b = 0; #10;\n",
        "        a = 1; b = 1; #10;\n",
        "        $finish;\n",
        "    end\n",
        "endmodule\n",
        "\"\"\"\n",
        "\n",
        "# Save testbench\n",
        "with open('/content/tb_and_gate.v', 'w') as f:\n",
        "    f.write(testbench_code)\n",
        "\n",
        "print(\"Testbench saved as tb_and_gate.v. Run locally with Verilator for simulation.\")"
      ],
      "metadata": {
        "colab": {
          "base_uri": "https://localhost:8080/"
        },
        "id": "g8Icf8skQqw8",
        "outputId": "310e0243-2e87-4b48-fdab-341398d4eab6"
      },
      "execution_count": null,
      "outputs": [
        {
          "output_type": "stream",
          "name": "stdout",
          "text": [
            "Requirement already satisfied: pyverilog in /usr/local/lib/python3.11/dist-packages (1.3.0)\n",
            "Requirement already satisfied: Jinja2>=2.10 in /usr/local/lib/python3.11/dist-packages (from pyverilog) (3.1.6)\n",
            "Requirement already satisfied: ply>=3.4 in /usr/local/lib/python3.11/dist-packages (from pyverilog) (3.11)\n",
            "Requirement already satisfied: MarkupSafe>=2.0 in /usr/local/lib/python3.11/dist-packages (from Jinja2>=2.10->pyverilog) (3.0.2)\n"
          ]
        },
        {
          "output_type": "stream",
          "name": "stderr",
          "text": [
            "Generating LALR tables\n"
          ]
        },
        {
          "output_type": "stream",
          "name": "stdout",
          "text": [
            "Error parsing Verilog code: [Errno 2] No such file or directory: 'iverilog'\n",
            "Testbench saved as tb_and_gate.v. Run locally with Verilator for simulation.\n"
          ]
        },
        {
          "output_type": "stream",
          "name": "stderr",
          "text": [
            "WARNING: 183 shift/reduce conflicts\n"
          ]
        }
      ]
    },
    {
      "cell_type": "code",
      "source": [
        "# Colab script to estimate Verilog code efficiency (structural analysis)\n",
        "!pip install pyverilog\n",
        "\n",
        "from pyverilog.vparser.parser import parse\n",
        "\n",
        "# Example Verilog code (AND gate)\n",
        "verilog_code = \"\"\"\n",
        "module and_gate (\n",
        "    input wire a,\n",
        "    input wire b,\n",
        "    output wire y\n",
        ");\n",
        "    assign y = a & b;\n",
        "endmodule\n",
        "\"\"\"\n",
        "\n",
        "# Save the Verilog code\n",
        "with open('/content/and_gate.v', 'w') as f:\n",
        "    f.write(verilog_code)\n",
        "\n",
        "# Estimate complexity via AST\n",
        "try:\n",
        "    ast, directives = parse(['/content/and_gate.v'])\n",
        "    operation_count = 0\n",
        "    wire_count = 0\n",
        "    for item in ast.description.items:\n",
        "        for decl in item.items:\n",
        "            if isinstance(decl, pyverilog.vparser.ast.Assign):\n",
        "                operation_count += 1\n",
        "            if isinstance(decl, pyverilog.vparser.ast.Wire):\n",
        "                wire_count += 1\n",
        "    print(f\"Operation count: {operation_count} (e.g., AND operations)\")\n",
        "    print(f\"Wire count: {wire_count}\")\n",
        "except Exception as e:\n",
        "    print(f\"Error parsing Verilog: {e}\")\n",
        "\n",
        "# Yosys script for local synthesis\n",
        "yosys_script = \"\"\"\n",
        "read_verilog and_gate.v\n",
        "synth -top and_gate\n",
        "stat\n",
        "\"\"\"\n",
        "\n",
        "# Save Yosys script\n",
        "with open('/content/synth_and_gate.ys', 'w') as f:\n",
        "    f.write(yosys_script)\n",
        "\n",
        "print(\"Yosys script saved as synth_and_gate.ys. Run locally for synthesis metrics.\")"
      ],
      "metadata": {
        "colab": {
          "base_uri": "https://localhost:8080/"
        },
        "id": "Q1Y5jh1qTM3B",
        "outputId": "7d3f034f-b5cc-4508-a634-b9efdba0a07e"
      },
      "execution_count": null,
      "outputs": [
        {
          "output_type": "stream",
          "name": "stdout",
          "text": [
            "Requirement already satisfied: pyverilog in /usr/local/lib/python3.11/dist-packages (1.3.0)\n",
            "Requirement already satisfied: Jinja2>=2.10 in /usr/local/lib/python3.11/dist-packages (from pyverilog) (3.1.6)\n",
            "Requirement already satisfied: ply>=3.4 in /usr/local/lib/python3.11/dist-packages (from pyverilog) (3.11)\n",
            "Requirement already satisfied: MarkupSafe>=2.0 in /usr/local/lib/python3.11/dist-packages (from Jinja2>=2.10->pyverilog) (3.0.2)\n"
          ]
        },
        {
          "output_type": "stream",
          "name": "stderr",
          "text": [
            "Generating LALR tables\n"
          ]
        },
        {
          "output_type": "stream",
          "name": "stdout",
          "text": [
            "Error parsing Verilog: [Errno 2] No such file or directory: 'iverilog'\n",
            "Yosys script saved as synth_and_gate.ys. Run locally for synthesis metrics.\n"
          ]
        },
        {
          "output_type": "stream",
          "name": "stderr",
          "text": [
            "WARNING: 183 shift/reduce conflicts\n"
          ]
        }
      ]
    },
    {
      "cell_type": "code",
      "source": [
        "!pip install pyverilog\n",
        "\n",
        "from pyverilog.vparser.parser import parse\n",
        "import os\n",
        "\n",
        "# Example Verilog code (AND gate)\n",
        "verilog_code = \"\"\"\n",
        "module and_gate (\n",
        "    input wire a,\n",
        "    input wire b,\n",
        "    output wire y\n",
        ");\n",
        "    assign y = a & b;\n",
        "endmodule\n",
        "\"\"\"\n",
        "\n",
        "# Save the Verilog code\n",
        "with open('/content/and_gate.v', 'w') as f:\n",
        "    f.write(verilog_code)\n",
        "\n",
        "# Specification: Module named 'and_gate' with inputs 'a', 'b', output 'y', and AND operation\n",
        "def check_verilog_spec(file_path):\n",
        "    try:\n",
        "        ast, _ = parse([file_path])\n",
        "        module_name = None\n",
        "        inputs = []\n",
        "        outputs = []\n",
        "        has_and_op = False\n",
        "\n",
        "        for item in ast.description.items:\n",
        "            if isinstance(item, pyverilog.vparser.ast.ModuleDef):\n",
        "                module_name = item.name\n",
        "                for port in item.portlist.ports:\n",
        "                    if isinstance(port, pyverilog.vparser.ast.Ioport):\n",
        "                        if isinstance(port.first, pyverilog.vparser.ast.Input):\n",
        "                            inputs.append(port.first.name)\n",
        "                        elif isinstance(port.first, pyverilog.vparser.ast.Output):\n",
        "                            outputs.append(port.first.name)\n",
        "                for decl in item.items:\n",
        "                    if isinstance(decl, pyverilog.vparser.ast.Assign):\n",
        "                        if 'a & b' in str(decl.right):\n",
        "                            has_and_op = True\n",
        "\n",
        "        if (module_name == 'and_gate' and\n",
        "            inputs == ['a', 'b'] and\n",
        "            outputs == ['y'] and\n",
        "            has_and_op):\n",
        "            print(\"Verilog code adheres to specification: Module 'and_gate' with inputs 'a', 'b', output 'y', and AND operation.\")\n",
        "        else:\n",
        "            print(f\"Specification check failed: Module={module_name}, Inputs={inputs}, Outputs={outputs}, Has AND={has_and_op}\")\n",
        "    except Exception as e:\n",
        "        print(f\"Error parsing Verilog: {e}\")\n",
        "\n",
        "# Run check\n",
        "check_verilog_spec('/content/and_gate.v')"
      ],
      "metadata": {
        "colab": {
          "base_uri": "https://localhost:8080/"
        },
        "id": "bwsvarwpW25F",
        "outputId": "b8eb9a12-121e-4448-d837-ee524fa1084a"
      },
      "execution_count": null,
      "outputs": [
        {
          "output_type": "stream",
          "name": "stdout",
          "text": [
            "Requirement already satisfied: pyverilog in /usr/local/lib/python3.11/dist-packages (1.3.0)\n",
            "Requirement already satisfied: Jinja2>=2.10 in /usr/local/lib/python3.11/dist-packages (from pyverilog) (3.1.6)\n",
            "Requirement already satisfied: ply>=3.4 in /usr/local/lib/python3.11/dist-packages (from pyverilog) (3.11)\n",
            "Requirement already satisfied: MarkupSafe>=2.0 in /usr/local/lib/python3.11/dist-packages (from Jinja2>=2.10->pyverilog) (3.0.2)\n"
          ]
        },
        {
          "output_type": "stream",
          "name": "stderr",
          "text": [
            "Generating LALR tables\n"
          ]
        },
        {
          "output_type": "stream",
          "name": "stdout",
          "text": [
            "Error parsing Verilog: [Errno 2] No such file or directory: 'iverilog'\n"
          ]
        },
        {
          "output_type": "stream",
          "name": "stderr",
          "text": [
            "WARNING: 183 shift/reduce conflicts\n"
          ]
        }
      ]
    },
    {
      "cell_type": "code",
      "source": [
        "!pip install pyverilog\n",
        "\n",
        "from pyverilog.vparser.parser import parse\n",
        "import os\n",
        "\n",
        "# Example Verilog code (AND gate)\n",
        "verilog_code = \"\"\"\n",
        "module and_gate (\n",
        "    input wire a,\n",
        "    input wire b,\n",
        "    output wire y\n",
        ");\n",
        "    assign y = a & b;\n",
        "endmodule\n",
        "\"\"\"\n",
        "\n",
        "# Save the Verilog code\n",
        "with open('/content/and_gate.v', 'w') as f:\n",
        "    f.write(verilog_code)\n",
        "\n",
        "# Basic readability check using Pyverilog\n",
        "def check_verilog_readability(file_path):\n",
        "    try:\n",
        "        ast, _ = parse([file_path])\n",
        "        module_count = 0\n",
        "        port_decls = 0\n",
        "        consistent_naming = True\n",
        "        names = []\n",
        "\n",
        "        for item in ast.description.items:\n",
        "            if isinstance(item, pyverilog.vparser.ast.ModuleDef):\n",
        "                module_count += 1\n",
        "                names.append(item.name)\n",
        "                for port in item.portlist.ports:\n",
        "                    port_decls += 1\n",
        "                    names.append(port.first.name)\n",
        "\n",
        "            # Check for consistent naming (e.g., lowercase)\n",
        "            for name in names:\n",
        "                if not name.islower():\n",
        "                    consistent_naming = False\n",
        "\n",
        "        if module_count == 1 and port_decls >= 3 and consistent_naming:\n",
        "            print(f\"{file_path}: Readable - single module, sufficient port declarations, consistent lowercase naming.\")\n",
        "        else:\n",
        "            print(f\"{file_path}: Readability issues - Modules={module_count}, Ports={port_decls}, Consistent naming={consistent_naming}\")\n",
        "    except Exception as e:\n",
        "        print(f\"Error parsing Verilog: {e}\")\n",
        "\n",
        "# Run check\n",
        "check_verilog_readability('/content/and_gate.v')\n",
        "\n",
        "# Verilator lint script for local execution\n",
        "verilator_script = \"\"\"\n",
        "verilator --lint-only -Wall and_gate.v\n",
        "\"\"\"\n",
        "\n",
        "# Save Verilator command\n",
        "with open('/content/lint_and_gate.sh', 'w') as f:\n",
        "    f.write(verilator_script)\n",
        "\n",
        "print(\"Run 'sh lint_and_gate.sh' locally with Verilator for detailed style checks.\")"
      ],
      "metadata": {
        "colab": {
          "base_uri": "https://localhost:8080/"
        },
        "id": "Cryj9aPDYUY8",
        "outputId": "20d0336a-5635-49a6-836d-da45ff64241f"
      },
      "execution_count": null,
      "outputs": [
        {
          "output_type": "stream",
          "name": "stdout",
          "text": [
            "Requirement already satisfied: pyverilog in /usr/local/lib/python3.11/dist-packages (1.3.0)\n",
            "Requirement already satisfied: Jinja2>=2.10 in /usr/local/lib/python3.11/dist-packages (from pyverilog) (3.1.6)\n",
            "Requirement already satisfied: ply>=3.4 in /usr/local/lib/python3.11/dist-packages (from pyverilog) (3.11)\n",
            "Requirement already satisfied: MarkupSafe>=2.0 in /usr/local/lib/python3.11/dist-packages (from Jinja2>=2.10->pyverilog) (3.0.2)\n"
          ]
        },
        {
          "output_type": "stream",
          "name": "stderr",
          "text": [
            "Generating LALR tables\n"
          ]
        },
        {
          "output_type": "stream",
          "name": "stdout",
          "text": [
            "Error parsing Verilog: [Errno 2] No such file or directory: 'iverilog'\n",
            "Run 'sh lint_and_gate.sh' locally with Verilator for detailed style checks.\n"
          ]
        },
        {
          "output_type": "stream",
          "name": "stderr",
          "text": [
            "WARNING: 183 shift/reduce conflicts\n"
          ]
        }
      ]
    },
    {
      "cell_type": "markdown",
      "source": [
        "3. Verilog varitaions"
      ],
      "metadata": {
        "id": "4X6tuzt2NRvO"
      }
    },
    {
      "cell_type": "code",
      "source": [
        "# Colab script to check syntactic correctness of Verilog variations\n",
        "!pip install pyverilog\n",
        "\n",
        "from pyverilog.vparser.parser import parse\n",
        "\n",
        "# Example Verilog variations (from your prompt)\n",
        "variations = {\n",
        "    'and_gate_v1.v': \"\"\"\n",
        "module and_gate_v1 (\n",
        "    input wire a,\n",
        "    input wire b,\n",
        "    output reg y\n",
        ");\n",
        "    always @(*) begin\n",
        "        y = a & b;\n",
        "    end\n",
        "endmodule\n",
        "\"\"\",\n",
        "    'and_gate_v2.v': \"\"\"\n",
        "module and_gate_v2 (\n",
        "    input wire in1,\n",
        "    input wire in2,\n",
        "    output wire out\n",
        ");\n",
        "    assign out = in1 & in2;\n",
        "endmodule\n",
        "\"\"\",\n",
        "    'and_gate_v3.v': \"\"\"\n",
        "module and_gate_v3 (\n",
        "    input wire a,\n",
        "    input wire b,\n",
        "    output wire y\n",
        ");\n",
        "    wire temp;\n",
        "    assign temp = a & b;\n",
        "    assign y = temp;\n",
        "endmodule\n",
        "\"\"\"\n",
        "}\n",
        "\n",
        "# Save and check each variation\n",
        "for filename, code in variations.items():\n",
        "    with open(f'/content/{filename}', 'w') as f:\n",
        "        f.write(code)\n",
        "\n",
        "    try:\n",
        "        ast, directives = parse([f'/content/{filename}'])\n",
        "        print(f\"{filename} is syntactically correct (Pyverilog parse passed).\")\n",
        "    except Exception as e:\n",
        "        print(f\"Syntax error in {filename}: {e}\")\n",
        "\n",
        "# Note: For local execution with Verilator\n",
        "# Run: verilator --lint-only and_gate_v1.v and_gate_v2.v and_gate_v3.v"
      ],
      "metadata": {
        "colab": {
          "base_uri": "https://localhost:8080/"
        },
        "id": "N6UN81h5NVDU",
        "outputId": "428a6272-d81f-47c5-9c00-becc28c220ab"
      },
      "execution_count": null,
      "outputs": [
        {
          "output_type": "stream",
          "name": "stdout",
          "text": [
            "Requirement already satisfied: pyverilog in /usr/local/lib/python3.11/dist-packages (1.3.0)\n",
            "Requirement already satisfied: Jinja2>=2.10 in /usr/local/lib/python3.11/dist-packages (from pyverilog) (3.1.6)\n",
            "Requirement already satisfied: ply>=3.4 in /usr/local/lib/python3.11/dist-packages (from pyverilog) (3.11)\n",
            "Requirement already satisfied: MarkupSafe>=2.0 in /usr/local/lib/python3.11/dist-packages (from Jinja2>=2.10->pyverilog) (3.0.2)\n"
          ]
        },
        {
          "output_type": "stream",
          "name": "stderr",
          "text": [
            "Generating LALR tables\n",
            "WARNING: 183 shift/reduce conflicts\n",
            "Generating LALR tables\n"
          ]
        },
        {
          "output_type": "stream",
          "name": "stdout",
          "text": [
            "Syntax error in and_gate_v1.v: [Errno 2] No such file or directory: 'iverilog'\n"
          ]
        },
        {
          "output_type": "stream",
          "name": "stderr",
          "text": [
            "WARNING: 183 shift/reduce conflicts\n",
            "Generating LALR tables\n"
          ]
        },
        {
          "output_type": "stream",
          "name": "stdout",
          "text": [
            "Syntax error in and_gate_v2.v: [Errno 2] No such file or directory: 'iverilog'\n",
            "Syntax error in and_gate_v3.v: [Errno 2] No such file or directory: 'iverilog'\n"
          ]
        },
        {
          "output_type": "stream",
          "name": "stderr",
          "text": [
            "WARNING: 183 shift/reduce conflicts\n"
          ]
        }
      ]
    },
    {
      "cell_type": "code",
      "source": [
        "# Colab script to check functional correctness of Verilog variations\n",
        "!pip install pyverilog\n",
        "\n",
        "from pyverilog.vparser.parser import parse\n",
        "\n",
        "# Base and variation Verilog codes (from your prompt)\n",
        "variations = {\n",
        "    'and_gate.v': \"\"\"\n",
        "module and_gate (\n",
        "    input wire a,\n",
        "    input wire b,\n",
        "    output wire y\n",
        ");\n",
        "    assign y = a & b;\n",
        "endmodule\n",
        "\"\"\",\n",
        "    'and_gate_v1.v': \"\"\"\n",
        "module and_gate_v1 (\n",
        "    input wire a,\n",
        "    input wire b,\n",
        "    output reg y\n",
        ");\n",
        "    always @(*) begin\n",
        "        y = a & b;\n",
        "    end\n",
        "endmodule\n",
        "\"\"\",\n",
        "    'and_gate_v2.v': \"\"\"\n",
        "module and_gate_v2 (\n",
        "    input wire in1,\n",
        "    input wire in2,\n",
        "    output wire out\n",
        ");\n",
        "    assign out = in1 & in2;\n",
        "endmodule\n",
        "\"\"\",\n",
        "    'and_gate_v3.v': \"\"\"\n",
        "module and_gate_v3 (\n",
        "    input wire a,\n",
        "    input wire b,\n",
        "    output wire y\n",
        ");\n",
        "    wire temp;\n",
        "    assign temp = a & b;\n",
        "    assign y = temp;\n",
        "endmodule\n",
        "\"\"\"\n",
        "}\n",
        "\n",
        "# Save variations\n",
        "for filename, code in variations.items():\n",
        "    with open(f'/content/{filename}', 'w') as f:\n",
        "        f.write(code)\n",
        "\n",
        "# Check AST for functional equivalence (basic check)\n",
        "for filename in variations:\n",
        "    try:\n",
        "        ast, directives = parse([f'/content/{filename}'])\n",
        "        found_and = False\n",
        "        for item in ast.description.items:\n",
        "            for decl in item.items:\n",
        "                if isinstance(decl, pyverilog.vparser.ast.Assign):\n",
        "                    if 'a & b' in str(decl.right) or 'in1 & in2' in str(decl.right):\n",
        "                        found_and = True\n",
        "                elif isinstance(decl, pyverilog.vparser.ast.Always):\n",
        "                    if 'a & b' in str(decl.statement):\n",
        "                        found_and = True\n",
        "        print(f\"{filename}: {'AND operation found' if found_and else 'Incorrect operation'}\")\n",
        "    except Exception as e:\n",
        "        print(f\"Error parsing {filename}: {e}\")\n",
        "\n",
        "# Testbench for local execution\n",
        "testbench_code = \"\"\"\n",
        "module tb_and_gate;\n",
        "    reg a, b;\n",
        "    wire y_base, y_v1, y_v2, y_v3;\n",
        "    and_gate dut_base (.a(a), .b(b), .y(y_base));\n",
        "    and_gate_v1 dut_v1 (.a(a), .b(b), .y(y_v1));\n",
        "    and_gate_v2 dut_v2 (.in1(a), .in2(b), .out(y_v2));\n",
        "    and_gate_v3 dut_v3 (.a(a), .b(b), .y(y_v3));\n",
        "    initial begin\n",
        "        $monitor(\"a=%b, b=%b, y_base=%b, y_v1=%b, y_v2=%b, y_v3=%b\", a, b, y_base, y_v1, y_v2, y_v3);\n",
        "        a = 0; b = 0; #10;\n",
        "        a = 0; b = 1; #10;\n",
        "        a = 1; b = 0; #10;\n",
        "        a = 1; b = 1; #10;\n",
        "        $finish;\n",
        "    end\n",
        "endmodule\n",
        "\"\"\"\n",
        "\n",
        "# Save testbench\n",
        "with open('/content/tb_and_gate_variations.v', 'w') as f:\n",
        "    f.write(testbench_code)\n",
        "\n",
        "print(\"Testbench saved as tb_and_gate_variations.v. Run locally with Verilator.\")"
      ],
      "metadata": {
        "colab": {
          "base_uri": "https://localhost:8080/"
        },
        "id": "LJhperM2RS8Y",
        "outputId": "82a0942e-4f29-441a-b392-25bcd195651f"
      },
      "execution_count": null,
      "outputs": [
        {
          "output_type": "stream",
          "name": "stdout",
          "text": [
            "Requirement already satisfied: pyverilog in /usr/local/lib/python3.11/dist-packages (1.3.0)\n",
            "Requirement already satisfied: Jinja2>=2.10 in /usr/local/lib/python3.11/dist-packages (from pyverilog) (3.1.6)\n",
            "Requirement already satisfied: ply>=3.4 in /usr/local/lib/python3.11/dist-packages (from pyverilog) (3.11)\n",
            "Requirement already satisfied: MarkupSafe>=2.0 in /usr/local/lib/python3.11/dist-packages (from Jinja2>=2.10->pyverilog) (3.0.2)\n"
          ]
        },
        {
          "output_type": "stream",
          "name": "stderr",
          "text": [
            "Generating LALR tables\n",
            "WARNING: 183 shift/reduce conflicts\n",
            "Generating LALR tables\n"
          ]
        },
        {
          "output_type": "stream",
          "name": "stdout",
          "text": [
            "Error parsing and_gate.v: [Errno 2] No such file or directory: 'iverilog'\n"
          ]
        },
        {
          "output_type": "stream",
          "name": "stderr",
          "text": [
            "WARNING: 183 shift/reduce conflicts\n",
            "Generating LALR tables\n"
          ]
        },
        {
          "output_type": "stream",
          "name": "stdout",
          "text": [
            "Error parsing and_gate_v1.v: [Errno 2] No such file or directory: 'iverilog'\n"
          ]
        },
        {
          "output_type": "stream",
          "name": "stderr",
          "text": [
            "WARNING: 183 shift/reduce conflicts\n",
            "Generating LALR tables\n"
          ]
        },
        {
          "output_type": "stream",
          "name": "stdout",
          "text": [
            "Error parsing and_gate_v2.v: [Errno 2] No such file or directory: 'iverilog'\n",
            "Error parsing and_gate_v3.v: [Errno 2] No such file or directory: 'iverilog'\n",
            "Testbench saved as tb_and_gate_variations.v. Run locally with Verilator.\n"
          ]
        },
        {
          "output_type": "stream",
          "name": "stderr",
          "text": [
            "WARNING: 183 shift/reduce conflicts\n"
          ]
        }
      ]
    },
    {
      "cell_type": "code",
      "source": [
        "# Colab script to estimate efficiency of Verilog variations\n",
        "!pip install pyverilog\n",
        "\n",
        "from pyverilog.vparser.parser import parse\n",
        "\n",
        "# Example Verilog variations (from your prompt)\n",
        "variations = {\n",
        "    'and_gate_v1.v': \"\"\"\n",
        "module and_gate_v1 (\n",
        "    input wire a,\n",
        "    input wire b,\n",
        "    output reg y\n",
        ");\n",
        "    always @(*) begin\n",
        "        y = a & b;\n",
        "    end\n",
        "endmodule\n",
        "\"\"\",\n",
        "    'and_gate_v2.v': \"\"\"\n",
        "module and_gate_v2 (\n",
        "    input wire in1,\n",
        "    input wire in2,\n",
        "    output wire out\n",
        ");\n",
        "    assign out = in1 & in2;\n",
        "endmodule\n",
        "\"\"\",\n",
        "    'and_gate_v3.v': \"\"\"\n",
        "module and_gate_v3 (\n",
        "    input wire a,\n",
        "    input wire b,\n",
        "    output wire y\n",
        ");\n",
        "    wire temp;\n",
        "    assign temp = a & b;\n",
        "    assign y = temp;\n",
        "endmodule\n",
        "\"\"\"\n",
        "}\n",
        "\n",
        "# Save and analyze variations\n",
        "for filename, code in variations.items():\n",
        "    with open(f'/content/{filename}', 'w') as f:\n",
        "        f.write(code)\n",
        "\n",
        "    try:\n",
        "        ast, directives = parse([f'/content/{filename}'])\n",
        "        operation_count = 0\n",
        "        wire_count = 0\n",
        "        for item in ast.description.items:\n",
        "            for decl in item.items:\n",
        "                if isinstance(decl, pyverilog.vparser.ast.Assign):\n",
        "                    operation_count += 1\n",
        "                if isinstance(decl, pyverilog.vparser.ast.Wire):\n",
        "                    wire_count += 1\n",
        "                if isinstance(decl, pyverilog.vparser.ast.Always):\n",
        "                    operation_count += 1  # Count always block as an operation\n",
        "        print(f\"{filename}: Operation count: {operation_count}, Wire count: {wire_count}\")\n",
        "    except Exception as e:\n",
        "        print(f\"Error parsing {filename}: {e}\")\n",
        "\n",
        "# Yosys script for local synthesis\n",
        "yosys_script = \"\"\"\n",
        "read_verilog and_gate_v1.v\n",
        "synth -top and_gate_v1\n",
        "stat\n",
        "read_verilog and_gate_v2.v\n",
        "synth -top and_gate_v2\n",
        "stat\n",
        "read_verilog and_gate_v3.v\n",
        "synth -top and_gate_v3\n",
        "stat\n",
        "\"\"\"\n",
        "\n",
        "# Save Yosys script\n",
        "with open('/content/synth_variations.ys', 'w') as f:\n",
        "    f.write(yosys_script)\n",
        "\n",
        "print(\"Yosys script saved as synth_variations.ys. Run locally for synthesis metrics.\")"
      ],
      "metadata": {
        "colab": {
          "base_uri": "https://localhost:8080/"
        },
        "id": "M6ZEBSl5Ucbf",
        "outputId": "5796224a-101b-4c0a-e879-23e6e7b9d45a"
      },
      "execution_count": null,
      "outputs": [
        {
          "output_type": "stream",
          "name": "stdout",
          "text": [
            "Requirement already satisfied: pyverilog in /usr/local/lib/python3.11/dist-packages (1.3.0)\n",
            "Requirement already satisfied: Jinja2>=2.10 in /usr/local/lib/python3.11/dist-packages (from pyverilog) (3.1.6)\n",
            "Requirement already satisfied: ply>=3.4 in /usr/local/lib/python3.11/dist-packages (from pyverilog) (3.11)\n",
            "Requirement already satisfied: MarkupSafe>=2.0 in /usr/local/lib/python3.11/dist-packages (from Jinja2>=2.10->pyverilog) (3.0.2)\n"
          ]
        },
        {
          "output_type": "stream",
          "name": "stderr",
          "text": [
            "Generating LALR tables\n",
            "WARNING: 183 shift/reduce conflicts\n",
            "Generating LALR tables\n"
          ]
        },
        {
          "output_type": "stream",
          "name": "stdout",
          "text": [
            "Error parsing and_gate_v1.v: [Errno 2] No such file or directory: 'iverilog'\n"
          ]
        },
        {
          "output_type": "stream",
          "name": "stderr",
          "text": [
            "WARNING: 183 shift/reduce conflicts\n",
            "Generating LALR tables\n"
          ]
        },
        {
          "output_type": "stream",
          "name": "stdout",
          "text": [
            "Error parsing and_gate_v2.v: [Errno 2] No such file or directory: 'iverilog'\n",
            "Error parsing and_gate_v3.v: [Errno 2] No such file or directory: 'iverilog'\n",
            "Yosys script saved as synth_variations.ys. Run locally for synthesis metrics.\n"
          ]
        },
        {
          "output_type": "stream",
          "name": "stderr",
          "text": [
            "WARNING: 183 shift/reduce conflicts\n"
          ]
        }
      ]
    },
    {
      "cell_type": "code",
      "source": [
        "!pip install pyverilog\n",
        "\n",
        "from pyverilog.vparser.parser import parse\n",
        "import os\n",
        "\n",
        "# Example Verilog variations (from your prompt)\n",
        "variations = {\n",
        "    'and_gate_v1.v': \"\"\"\n",
        "module and_gate_v1 (\n",
        "    input wire a,\n",
        "    input wire b,\n",
        "    output reg y\n",
        ");\n",
        "    always @(*) begin\n",
        "        y = a & b;\n",
        "    end\n",
        "endmodule\n",
        "\"\"\",\n",
        "    'and_gate_v2.v': \"\"\"\n",
        "module and_gate_v2 (\n",
        "    input wire in1,\n",
        "    input wire in2,\n",
        "    output wire out\n",
        ");\n",
        "    assign out = in1 & in2;\n",
        "endmodule\n",
        "\"\"\",\n",
        "    'and_gate_v3.v': \"\"\"\n",
        "module and_gate_v3 (\n",
        "    input wire a,\n",
        "    input wire b,\n",
        "    output wire y\n",
        ");\n",
        "    wire temp;\n",
        "    assign temp = a & b;\n",
        "    assign y = temp;\n",
        "endmodule\n",
        "\"\"\"\n",
        "}\n",
        "\n",
        "# Specifications for variations\n",
        "specs = {\n",
        "    'and_gate_v1': {'module': 'and_gate_v1', 'output_type': 'reg', 'has_always': True, 'inputs': ['a', 'b'], 'output': 'y', 'operation': 'a & b'},\n",
        "    'and_gate_v2': {'module': 'and_gate_v2', 'output_type': 'wire', 'has_always': False, 'inputs': ['in1', 'in2'], 'output': 'out', 'operation': 'in1 & in2'},\n",
        "    'and_gate_v3': {'module': 'and_gate_v3', 'output_type': 'wire', 'has_always': False, 'inputs': ['a', 'b'], 'output': 'y', 'internal_wire': True}\n",
        "}\n",
        "\n",
        "# Save variations\n",
        "for filename, code in variations.items():\n",
        "    with open(f'/content/{filename}', 'w') as f:\n",
        "        f.write(code)\n",
        "\n",
        "# Check specification adherence\n",
        "def check_variation_spec(file_path, spec):\n",
        "    try:\n",
        "        ast, _ = parse([file_path])\n",
        "        module_name = None\n",
        "        inputs = []\n",
        "        outputs = []\n",
        "        output_type = None\n",
        "        has_always = False\n",
        "        has_correct_op = False\n",
        "        has_internal_wire = False\n",
        "\n",
        "        for item in ast.description.items:\n",
        "            if isinstance(item, pyverilog.vparser.ast.ModuleDef):\n",
        "                module_name = item.name\n",
        "                for port in item.portlist.ports:\n",
        "                    if isinstance(port, pyverilog.vparser.ast.Ioport):\n",
        "                        if isinstance(port.first, pyverilog.vparser.ast.Input):\n",
        "                            inputs.append(port.first.name)\n",
        "                        elif isinstance(port.first, pyverilog.vparser.ast.Output):\n",
        "                            outputs.append(port.first.name)\n",
        "                            output_type = 'reg' if port.first.type == 'reg' else 'wire'\n",
        "                for decl in item.items:\n",
        "                    if isinstance(decl, pyverilog.vparser.ast.Always):\n",
        "                        has_always = True\n",
        "                        if spec['operation'] in str(decl.statement):\n",
        "                            has_correct_op = True\n",
        "                    if isinstance(decl, pyverilog.vparser.ast.Assign):\n",
        "                        if spec['operation'] in str(decl.right):\n",
        "                            has_correct_op = True\n",
        "                    if isinstance(decl, pyverilog.vparser.ast.Wire) and decl.name == 'temp':\n",
        "                        has_internal_wire = True\n",
        "\n",
        "        checks = [\n",
        "            module_name == spec['module'],\n",
        "            inputs == spec['inputs'],\n",
        "            outputs == [spec['output']],\n",
        "            output_type == spec['output_type'],\n",
        "            has_always == spec['has_always'],\n",
        "            has_correct_op,\n",
        "            has_internal_wire == spec.get('internal_wire', False)\n",
        "        ]\n",
        "\n",
        "        if all(checks):\n",
        "            print(f\"{file_path}: Adheres to specification.\")\n",
        "        else:\n",
        "            print(f\"{file_path}: Failed specification: Module={module_name}, Inputs={inputs}, Outputs={outputs}, \"\n",
        "                  f\"Output_type={output_type}, Has_always={has_always}, Correct_op={has_correct_op}, \"\n",
        "                  f\"Internal_wire={has_internal_wire}\")\n",
        "    except Exception as e:\n",
        "        print(f\"Error parsing {file_path}: {e}\")\n",
        "\n",
        "# Run checks\n",
        "for filename, spec in specs.items():\n",
        "    check_variation_spec(f'/content/{filename}.v', spec)"
      ],
      "metadata": {
        "colab": {
          "base_uri": "https://localhost:8080/"
        },
        "id": "hL2g0ZlGXXUe",
        "outputId": "77658070-5aab-4425-f124-9296b6133a7a"
      },
      "execution_count": null,
      "outputs": [
        {
          "output_type": "stream",
          "name": "stdout",
          "text": [
            "Requirement already satisfied: pyverilog in /usr/local/lib/python3.11/dist-packages (1.3.0)\n",
            "Requirement already satisfied: Jinja2>=2.10 in /usr/local/lib/python3.11/dist-packages (from pyverilog) (3.1.6)\n",
            "Requirement already satisfied: ply>=3.4 in /usr/local/lib/python3.11/dist-packages (from pyverilog) (3.11)\n",
            "Requirement already satisfied: MarkupSafe>=2.0 in /usr/local/lib/python3.11/dist-packages (from Jinja2>=2.10->pyverilog) (3.0.2)\n"
          ]
        },
        {
          "output_type": "stream",
          "name": "stderr",
          "text": [
            "Generating LALR tables\n",
            "WARNING: 183 shift/reduce conflicts\n",
            "Generating LALR tables\n"
          ]
        },
        {
          "output_type": "stream",
          "name": "stdout",
          "text": [
            "Error parsing /content/and_gate_v1.v: [Errno 2] No such file or directory: 'iverilog'\n"
          ]
        },
        {
          "output_type": "stream",
          "name": "stderr",
          "text": [
            "WARNING: 183 shift/reduce conflicts\n",
            "Generating LALR tables\n"
          ]
        },
        {
          "output_type": "stream",
          "name": "stdout",
          "text": [
            "Error parsing /content/and_gate_v2.v: [Errno 2] No such file or directory: 'iverilog'\n",
            "Error parsing /content/and_gate_v3.v: [Errno 2] No such file or directory: 'iverilog'\n"
          ]
        },
        {
          "output_type": "stream",
          "name": "stderr",
          "text": [
            "WARNING: 183 shift/reduce conflicts\n"
          ]
        }
      ]
    },
    {
      "cell_type": "code",
      "source": [
        "!pip install pyverilog\n",
        "\n",
        "from pyverilog.vparser.parser import parse\n",
        "import os\n",
        "\n",
        "# Example Verilog variations (from your prompt)\n",
        "variations = {\n",
        "    'and_gate_v1.v': \"\"\"\n",
        "module and_gate_v1 (\n",
        "    input wire a,\n",
        "    input wire b,\n",
        "    output reg y\n",
        ");\n",
        "    always @(*) begin\n",
        "        y = a & b;\n",
        "    end\n",
        "endmodule\n",
        "\"\"\",\n",
        "    'and_gate_v2.v': \"\"\"\n",
        "module and_gate_v2 (\n",
        "    input wire in1,\n",
        "    input wire in2,\n",
        "    output wire out\n",
        ");\n",
        "    assign out = in1 & in2;\n",
        "endmodule\n",
        "\"\"\",\n",
        "    'and_gate_v3.v': \"\"\"\n",
        "module and_gate_v3 (\n",
        "    input wire a,\n",
        "    input wire b,\n",
        "    output wire y\n",
        ");\n",
        "    wire temp;\n",
        "    assign temp = a & b;\n",
        "    assign y = temp;\n",
        "endmodule\n",
        "\"\"\"\n",
        "}\n",
        "\n",
        "# Save variations\n",
        "for filename, code in variations.items():\n",
        "    with open(f'/content/{filename}', 'w') as f:\n",
        "        f.write(code)\n",
        "\n",
        "# Readability check\n",
        "def check_variation_readability(file_path):\n",
        "    try:\n",
        "        ast, _ = parse([file_path])\n",
        "        module_count = 0\n",
        "        port_decls = 0\n",
        "        consistent_naming = True\n",
        "        has_comments = False\n",
        "        names = []\n",
        "\n",
        "        for item in ast.description.items:\n",
        "            if isinstance(item, pyverilog.vparser.ast.ModuleDef):\n",
        "                module_count += 1\n",
        "                names.append(item.name)\n",
        "                for port in item.portlist.ports:\n",
        "                    port_decls += 1\n",
        "                    names.append(port.first.name)\n",
        "            for decl in item.items:\n",
        "                if hasattr(decl, 'comment') and decl.comment:\n",
        "                    has_comments = True\n",
        "\n",
        "        for name in names:\n",
        "            if not name.islower():\n",
        "                consistent_naming = False\n",
        "\n",
        "        if module_count == 1 and port_decls >= 3 and consistent_naming:\n",
        "            print(f\"{file_path}: Readable - single module, sufficient ports, consistent naming. Comments: {has_comments}\")\n",
        "        else:\n",
        "            print(f\"{file_path}: Readability issues - Modules={module_count}, Ports={port_decls}, Consistent naming={consistent_naming}, Comments={has_comments}\")\n",
        "    except Exception as e:\n",
        "        print(f\"Error parsing {file_path}: {e}\")\n",
        "\n",
        "# Run checks\n",
        "for filename in variations:\n",
        "    check_variation_readability(f'/content/{filename}')\n",
        "\n",
        "# Verilator lint script for local execution\n",
        "verilator_script = \"\"\"\n",
        "verilator --lint-only -Wall and_gate_v1.v and_gate_v2.v and_gate_v3.v\n",
        "\"\"\"\n",
        "\n",
        "# Save Verilator command\n",
        "with open('/content/lint_variations.sh', 'w') as f:\n",
        "    f.write(verilator_script)\n",
        "\n",
        "print(\"Run 'sh lint_variations.sh' locally with Verilator for detailed style checks.\")"
      ],
      "metadata": {
        "colab": {
          "base_uri": "https://localhost:8080/"
        },
        "id": "mwcqzQbjYhbS",
        "outputId": "5d413759-b57f-46d8-fb20-4d20ead4795e"
      },
      "execution_count": null,
      "outputs": [
        {
          "output_type": "stream",
          "name": "stdout",
          "text": [
            "Requirement already satisfied: pyverilog in /usr/local/lib/python3.11/dist-packages (1.3.0)\n",
            "Requirement already satisfied: Jinja2>=2.10 in /usr/local/lib/python3.11/dist-packages (from pyverilog) (3.1.6)\n",
            "Requirement already satisfied: ply>=3.4 in /usr/local/lib/python3.11/dist-packages (from pyverilog) (3.11)\n",
            "Requirement already satisfied: MarkupSafe>=2.0 in /usr/local/lib/python3.11/dist-packages (from Jinja2>=2.10->pyverilog) (3.0.2)\n"
          ]
        },
        {
          "output_type": "stream",
          "name": "stderr",
          "text": [
            "Generating LALR tables\n",
            "WARNING: 183 shift/reduce conflicts\n",
            "Generating LALR tables\n"
          ]
        },
        {
          "output_type": "stream",
          "name": "stdout",
          "text": [
            "Error parsing /content/and_gate_v1.v: [Errno 2] No such file or directory: 'iverilog'\n"
          ]
        },
        {
          "output_type": "stream",
          "name": "stderr",
          "text": [
            "WARNING: 183 shift/reduce conflicts\n",
            "Generating LALR tables\n"
          ]
        },
        {
          "output_type": "stream",
          "name": "stdout",
          "text": [
            "Error parsing /content/and_gate_v2.v: [Errno 2] No such file or directory: 'iverilog'\n",
            "Error parsing /content/and_gate_v3.v: [Errno 2] No such file or directory: 'iverilog'\n",
            "Run 'sh lint_variations.sh' locally with Verilator for detailed style checks.\n"
          ]
        },
        {
          "output_type": "stream",
          "name": "stderr",
          "text": [
            "WARNING: 183 shift/reduce conflicts\n"
          ]
        }
      ]
    },
    {
      "cell_type": "markdown",
      "source": [
        "4. xform"
      ],
      "metadata": {
        "id": "OZkvJDbMNoxF"
      }
    },
    {
      "cell_type": "code",
      "source": [
        "# Colab script to check syntactic correctness of Python xform and output Verilog\n",
        "!pip install pyverilog pylint\n",
        "\n",
        "import py_compile\n",
        "import pylint.lint\n",
        "import os\n",
        "from pyverilog.vparser.parser import parse\n",
        "\n",
        "# Example xform Python script (from your prompt, abbreviated for brevity)\n",
        "xform_code = \"\"\"\n",
        "#!/usr/bin/env python3\n",
        "import sys\n",
        "import os\n",
        "import re\n",
        "import argparse\n",
        "from pyverilog.vparser.parser import parse\n",
        "from pyverilog.vparser.ast import *\n",
        "\n",
        "def transform_module_name(input_file, output_file, from_name, to_name):\n",
        "    try:\n",
        "        with open(input_file, \"r\") as f:\n",
        "            content = f.read()\n",
        "        ast, directives = parse([input_file])\n",
        "        pattern = r\"\\\\bmodule\\\\s+\" + re.escape(from_name) + r\"\\\\b\"\n",
        "        replacement = f\"module {to_name}\"\n",
        "        modified_content = re.sub(pattern, replacement, content)\n",
        "        with open(output_file, \"w\") as f:\n",
        "            f.write(modified_content)\n",
        "        return True\n",
        "    except Exception as e:\n",
        "        print(f\"Error: {e}\")\n",
        "        return False\n",
        "\n",
        "if __name__ == \"__main__\":\n",
        "    parser = argparse.ArgumentParser()\n",
        "    parser.add_argument(\"input_file\")\n",
        "    parser.add_argument(\"output_file\")\n",
        "    parser.add_argument(\"--from\", dest=\"from_name\", required=True)\n",
        "    parser.add_argument(\"--to\", dest=\"to_name\", required=True)\n",
        "    args = parser.parse_args()\n",
        "    transform_module_name(args.input_file, args.output_file, args.from_name, args.to_name)\n",
        "\"\"\"\n",
        "\n",
        "# Save the xform script\n",
        "with open('/content/xform_module_name.py', 'w') as f:\n",
        "    f.write(xform_code)\n",
        "\n",
        "# Check Python syntax with py_compile\n",
        "try:\n",
        "    py_compile.compile('/content/xform_module_name.py', doraise=True)\n",
        "    print(\"xform Python script is syntactically correct (py_compile check passed).\")\n",
        "except py_compile.PyCompileError as e:\n",
        "    print(f\"Syntax error in xform Python script: {e}\")\n",
        "\n",
        "# Check with Pylint\n",
        "try:\n",
        "    pylint_args = ['--errors-only', '/content/xform_module_name.py']\n",
        "    pylint.lint.Run(pylint_args)\n",
        "    print(\"Pylint check passed for xform script (no syntax errors).\")\n",
        "except SystemExit as e:\n",
        "    print(f\"Pylint detected issues in xform script: {e}\")\n",
        "\n",
        "# Example input Verilog (simple_counter)\n",
        "input_verilog = \"\"\"\n",
        "module simple_counter (\n",
        "  input clk, rst, enable,\n",
        "  output [7:0] count_out\n",
        ");\n",
        "  reg [7:0] count;\n",
        "  always @(posedge clk or posedge rst) begin\n",
        "    if (rst) count <= 8'h00;\n",
        "    else if (enable) count <= count + 1;\n",
        "  end\n",
        "  assign count_out = count;\n",
        "endmodule\n",
        "\"\"\"\n",
        "\n",
        "# Save input Verilog\n",
        "with open('/content/simple_counter.v', 'w') as f:\n",
        "    f.write(input_verilog)\n",
        "\n",
        "# Run xform to generate output Verilog\n",
        "os.system('python /content/xform_module_name.py /content/simple_counter.v /content/advanced_counter.v --from simple_counter --to advanced_counter')\n",
        "\n",
        "# Check output Verilog syntax\n",
        "try:\n",
        "    ast, directives = parse(['/content/advanced_counter.v'])\n",
        "    print(\"Output Verilog (advanced_counter.v) is syntactically correct (Pyverilog parse passed).\")\n",
        "except Exception as e:\n",
        "    print(f\"Syntax error in output Verilog: {e}\")"
      ],
      "metadata": {
        "colab": {
          "base_uri": "https://localhost:8080/"
        },
        "id": "ck2yZI5kNqat",
        "outputId": "f6cbe01e-e406-4ed5-a563-9363dfe14367"
      },
      "execution_count": null,
      "outputs": [
        {
          "output_type": "stream",
          "name": "stdout",
          "text": [
            "Requirement already satisfied: pyverilog in /usr/local/lib/python3.11/dist-packages (1.3.0)\n",
            "Requirement already satisfied: pylint in /usr/local/lib/python3.11/dist-packages (3.3.7)\n",
            "Requirement already satisfied: Jinja2>=2.10 in /usr/local/lib/python3.11/dist-packages (from pyverilog) (3.1.6)\n",
            "Requirement already satisfied: ply>=3.4 in /usr/local/lib/python3.11/dist-packages (from pyverilog) (3.11)\n",
            "Requirement already satisfied: astroid<=3.4.0.dev0,>=3.3.8 in /usr/local/lib/python3.11/dist-packages (from pylint) (3.3.10)\n",
            "Requirement already satisfied: dill>=0.3.6 in /usr/local/lib/python3.11/dist-packages (from pylint) (0.3.7)\n",
            "Requirement already satisfied: isort!=5.13,<7,>=4.2.5 in /usr/local/lib/python3.11/dist-packages (from pylint) (6.0.1)\n",
            "Requirement already satisfied: mccabe<0.8,>=0.6 in /usr/local/lib/python3.11/dist-packages (from pylint) (0.7.0)\n",
            "Requirement already satisfied: platformdirs>=2.2 in /usr/local/lib/python3.11/dist-packages (from pylint) (4.3.8)\n",
            "Requirement already satisfied: tomlkit>=0.10.1 in /usr/local/lib/python3.11/dist-packages (from pylint) (0.13.2)\n",
            "Requirement already satisfied: MarkupSafe>=2.0 in /usr/local/lib/python3.11/dist-packages (from Jinja2>=2.10->pyverilog) (3.0.2)\n",
            "xform Python script is syntactically correct (py_compile check passed).\n",
            "Pylint detected issues in xform script: 0\n"
          ]
        },
        {
          "output_type": "stream",
          "name": "stderr",
          "text": [
            "Generating LALR tables\n"
          ]
        },
        {
          "output_type": "stream",
          "name": "stdout",
          "text": [
            "Syntax error in output Verilog: [Errno 2] No such file or directory: 'iverilog'\n"
          ]
        },
        {
          "output_type": "stream",
          "name": "stderr",
          "text": [
            "WARNING: 183 shift/reduce conflicts\n"
          ]
        }
      ]
    },
    {
      "cell_type": "code",
      "source": [
        "# Colab script to check functional correctness of xform output\n",
        "!pip install pyverilog\n",
        "\n",
        "from pyverilog.vparser.parser import parse\n",
        "import os\n",
        "\n",
        "# Example xform Python script (abbreviated from your prompt)\n",
        "xform_code = \"\"\"\n",
        "#!/usr/bin/env python3\n",
        "import re\n",
        "def transform_module_name(input_file, output_file, from_name, to_name):\n",
        "    try:\n",
        "        with open(input_file, \"r\") as f:\n",
        "            content = f.read()\n",
        "        pattern = r\"\\\\bmodule\\\\s+\" + re.escape(from_name) + r\"\\\\b\"\n",
        "        replacement = f\"module {to_name}\"\n",
        "        modified_content = re.sub(pattern, replacement, content)\n",
        "        with open(output_file, \"w\") as f:\n",
        "            f.write(modified_content)\n",
        "        return True\n",
        "    except Exception as e:\n",
        "        print(f\"Error: {e}\")\n",
        "        return False\n",
        "\"\"\"\n",
        "\n",
        "# Save xform script\n",
        "with open('/content/xform_module_name.py', 'w') as f:\n",
        "    f.write(xform_code)\n",
        "\n",
        "# Example input Verilog (simple_counter)\n",
        "input_verilog = \"\"\"\n",
        "module simple_counter (\n",
        "  input clk, rst, enable,\n",
        "  output [7:0] count_out\n",
        ");\n",
        "  reg [7:0] count;\n",
        "  always @(posedge clk or posedge rst) begin\n",
        "    if (rst) count <= 8'h00;\n",
        "    else if (enable) count <= count + 1;\n",
        "  end\n",
        "  assign count_out = count;\n",
        "endmodule\n",
        "\"\"\"\n",
        "\n",
        "# Save input Verilog\n",
        "with open('/content/simple_counter.v', 'w') as f:\n",
        "    f.write(input_verilog)\n",
        "\n",
        "# Run xform to generate output Verilog\n",
        "os.system('python /content/xform_module_name.py /content/simple_counter.v /content/advanced_counter.v --from simple_counter --to advanced_counter')\n",
        "\n",
        "# Testbench for both modules\n",
        "testbench_code = \"\"\"\n",
        "module tb_counter;\n",
        "    reg clk, rst, enable;\n",
        "    wire [7:0] count_base, count_adv;\n",
        "    simple_counter dut_base (.clk(clk), .rst(rst), .enable(enable), .count_out(count_base));\n",
        "    advanced_counter dut_adv (.clk(clk), .rst(rst), .enable(enable), .count_out(count_adv));\n",
        "    initial begin\n",
        "        clk = 0;\n",
        "        forever #5 clk = ~clk;\n",
        "    end\n",
        "    initial begin\n",
        "        $monitor(\"rst=%b, enable=%b, count_base=%d, count_adv=%d\", rst, enable, count_base, count_adv);\n",
        "        rst = 1; enable = 0; #10;\n",
        "        rst = 0; enable = 1; #50;\n",
        "        enable = 0; #20;\n",
        "        $finish;\n",
        "    end\n",
        "endmodule\n",
        "\"\"\"\n",
        "\n",
        "# Save testbench\n",
        "with open('/content/tb_counter.v', 'w') as f:\n",
        "    f.write(testbench_code)\n",
        "\n",
        "# Basic AST check in Colab\n",
        "try:\n",
        "    ast_base, _ = parse(['/content/simple_counter.v'])\n",
        "    ast_adv, _ = parse(['/content/advanced_counter.v'])\n",
        "    print(\"Both Verilog modules parsed successfully.\")\n",
        "    # Simple functional check: compare module structures\n",
        "    base_logic = str(ast_base.description)\n",
        "    adv_logic = str(ast_adv.description).replace('advanced_counter', 'simple_counter')\n",
        "    if base_logic == adv_logic:\n",
        "        print(\"xform output is functionally equivalent (AST structure matches).\")\n",
        "    else:\n",
        "        print(\"xform output differs in structure.\")\n",
        "except Exception as e:\n",
        "    print(f\"Error parsing Verilog: {e}\")\n",
        "\n",
        "print(\"Testbench saved as tb_counter.v. Run locally with Verilator for simulation.\")"
      ],
      "metadata": {
        "colab": {
          "base_uri": "https://localhost:8080/"
        },
        "id": "8rElaiGGRjxk",
        "outputId": "b59b7a1b-e9b8-43f9-f59c-a6c280eac77c"
      },
      "execution_count": null,
      "outputs": [
        {
          "output_type": "stream",
          "name": "stdout",
          "text": [
            "Requirement already satisfied: pyverilog in /usr/local/lib/python3.11/dist-packages (1.3.0)\n",
            "Requirement already satisfied: Jinja2>=2.10 in /usr/local/lib/python3.11/dist-packages (from pyverilog) (3.1.6)\n",
            "Requirement already satisfied: ply>=3.4 in /usr/local/lib/python3.11/dist-packages (from pyverilog) (3.11)\n",
            "Requirement already satisfied: MarkupSafe>=2.0 in /usr/local/lib/python3.11/dist-packages (from Jinja2>=2.10->pyverilog) (3.0.2)\n"
          ]
        },
        {
          "output_type": "stream",
          "name": "stderr",
          "text": [
            "Generating LALR tables\n"
          ]
        },
        {
          "output_type": "stream",
          "name": "stdout",
          "text": [
            "Error parsing Verilog: [Errno 2] No such file or directory: 'iverilog'\n",
            "Testbench saved as tb_counter.v. Run locally with Verilator for simulation.\n"
          ]
        },
        {
          "output_type": "stream",
          "name": "stderr",
          "text": [
            "WARNING: 183 shift/reduce conflicts\n"
          ]
        }
      ]
    },
    {
      "cell_type": "code",
      "source": [
        "# Colab script to check efficiency of xform Python script and output Verilog\n",
        "!pip install pyverilog memory_profiler\n",
        "\n",
        "import time\n",
        "import memory_profiler\n",
        "import os\n",
        "from pyverilog.vparser.parser import parse\n",
        "\n",
        "# Example xform Python script (abbreviated)\n",
        "xform_code = \"\"\"\n",
        "import re\n",
        "def transform_module_name(input_file, output_file, from_name, to_name):\n",
        "    with open(input_file, \"r\") as f:\n",
        "        content = f.read()\n",
        "    pattern = r\"\\\\bmodule\\\\s+\" + re.escape(from_name) + r\"\\\\b\"\n",
        "    replacement = f\"module {to_name}\"\n",
        "    modified_content = re.sub(pattern, replacement, content)\n",
        "    with open(output_file, \"w\") as f:\n",
        "        f.write(modified_content)\n",
        "    return True\n",
        "\"\"\"\n",
        "\n",
        "# Save xform script\n",
        "with open('/content/xform_module_name.py', 'w') as f:\n",
        "    f.write(xform_code)\n",
        "\n",
        "# Example input Verilog (simple_counter)\n",
        "input_verilog = \"\"\"\n",
        "module simple_counter (\n",
        "  input clk, rst, enable,\n",
        "  output [7:0] count_out\n",
        ");\n",
        "  reg [7:0] count;\n",
        "  always @(posedge clk or posedge rst) begin\n",
        "    if (rst) count <= 8'h00;\n",
        "    else if (enable) count <= count + 1;\n",
        "  end\n",
        "  assign count_out = count;\n",
        "endmodule\n",
        "\"\"\"\n",
        "\n",
        "# Save input Verilog\n",
        "with open('/content/simple_counter.v', 'w') as f:\n",
        "    f.write(input_verilog)\n",
        "\n",
        "# Test script for runtime and memory\n",
        "test_code = \"\"\"\n",
        "from memory_profiler import profile\n",
        "from xform_module_name import transform_module_name\n",
        "\n",
        "@profile\n",
        "def run_test():\n",
        "    transform_module_name('/content/simple_counter.v', '/content/advanced_counter.v', 'simple_counter', 'advanced_counter')\n",
        "\n",
        "if __name__ == '__main__':\n",
        "    import time\n",
        "    start_time = time.perf_counter()\n",
        "    run_test()\n",
        "    end_time = time.perf_counter()\n",
        "    print(f\"Runtime: {end_time - start_time:.6f} seconds\")\n",
        "\"\"\"\n",
        "\n",
        "# Save test script\n",
        "with open('/content/test_xform.py', 'w') as f:\n",
        "    f.write(test_code)\n",
        "\n",
        "# Run test\n",
        "!python /content/test_xform.py\n",
        "\n",
        "# Analyze output Verilog complexity\n",
        "try:\n",
        "    ast, _ = parse(['/content/advanced_counter.v'])\n",
        "    operation_count = 0\n",
        "    reg_count = 0\n",
        "    for item in ast.description.items:\n",
        "        for decl in item.items:\n",
        "            if isinstance(decl, pyverilog.vparser.ast.Assign):\n",
        "                operation_count += 1\n",
        "            if isinstance(decl, pyverilog.vparser.ast.Always):\n",
        "                operation_count += 1\n",
        "            if isinstance(decl, pyverilog.vparser.ast.Reg):\n",
        "                reg_count += 1\n",
        "    print(f\"Output Verilog: Operation count: {operation_count}, Register count: {reg_count}\")\n",
        "except Exception as e:\n",
        "    print(f\"Error parsing output Verilog: {e}\")\n",
        "\n",
        "# Yosys script for local synthesis\n",
        "yosys_script = \"\"\"\n",
        "read_verilog advanced_counter.v\n",
        "synth -top advanced_counter\n",
        "stat\n",
        "\"\"\"\n",
        "\n",
        "# Save Yosys script\n",
        "with open('/content/synth_advanced_counter.ys', 'w') as f:\n",
        "    f.write(yosys_script)\n",
        "\n",
        "print(\"Yosys script saved as synth_advanced_counter.ys. Run locally for synthesis metrics.\")"
      ],
      "metadata": {
        "colab": {
          "base_uri": "https://localhost:8080/"
        },
        "id": "yPlr_7N3U69x",
        "outputId": "32e74d4f-169f-47e3-af19-48f23c03b275"
      },
      "execution_count": null,
      "outputs": [
        {
          "output_type": "stream",
          "name": "stdout",
          "text": [
            "Requirement already satisfied: pyverilog in /usr/local/lib/python3.11/dist-packages (1.3.0)\n",
            "Requirement already satisfied: memory_profiler in /usr/local/lib/python3.11/dist-packages (0.61.0)\n",
            "Requirement already satisfied: Jinja2>=2.10 in /usr/local/lib/python3.11/dist-packages (from pyverilog) (3.1.6)\n",
            "Requirement already satisfied: ply>=3.4 in /usr/local/lib/python3.11/dist-packages (from pyverilog) (3.11)\n",
            "Requirement already satisfied: psutil in /usr/local/lib/python3.11/dist-packages (from memory_profiler) (5.9.5)\n",
            "Requirement already satisfied: MarkupSafe>=2.0 in /usr/local/lib/python3.11/dist-packages (from Jinja2>=2.10->pyverilog) (3.0.2)\n",
            "Filename: /content/test_xform.py\n",
            "\n",
            "Line #    Mem usage    Increment  Occurrences   Line Contents\n",
            "=============================================================\n",
            "     5     41.7 MiB     41.7 MiB           1   @profile\n",
            "     6                                         def run_test():\n",
            "     7     41.7 MiB      0.0 MiB           1       transform_module_name('/content/simple_counter.v', '/content/advanced_counter.v', 'simple_counter', 'advanced_counter')\n",
            "\n",
            "\n",
            "Runtime: 0.033743 seconds\n"
          ]
        },
        {
          "output_type": "stream",
          "name": "stderr",
          "text": [
            "Generating LALR tables\n"
          ]
        },
        {
          "output_type": "stream",
          "name": "stdout",
          "text": [
            "Error parsing output Verilog: [Errno 2] No such file or directory: 'iverilog'\n",
            "Yosys script saved as synth_advanced_counter.ys. Run locally for synthesis metrics.\n"
          ]
        },
        {
          "output_type": "stream",
          "name": "stderr",
          "text": [
            "WARNING: 183 shift/reduce conflicts\n"
          ]
        }
      ]
    },
    {
      "cell_type": "code",
      "source": [
        "!pip install pyverilog\n",
        "\n",
        "import os\n",
        "from pyverilog.vparser.parser import parse\n",
        "\n",
        "# Example xform Python script (abbreviated)\n",
        "xform_code = \"\"\"\n",
        "import re\n",
        "def transform_module_name(input_file, output_file, from_name, to_name):\n",
        "    with open(input_file, \"r\") as f:\n",
        "        content = f.read()\n",
        "    pattern = r\"\\\\bmodule\\\\s+\" + re.escape(from_name) + r\"\\\\b\"\n",
        "    replacement = f\"module {to_name}\"\n",
        "    modified_content = re.sub(pattern, replacement, content)\n",
        "    with open(output_file, \"w\") as f:\n",
        "        f.write(modified_content)\n",
        "    return True\n",
        "\"\"\"\n",
        "\n",
        "# Save xform script\n",
        "with open('/content/xform_module_name.py', 'w') as f:\n",
        "    f.write(xform_code)\n",
        "\n",
        "# Example input Verilog (simple_counter)\n",
        "input_verilog = \"\"\"\n",
        "module simple_counter (\n",
        "  input clk, rst, enable,\n",
        "  output [7:0] count_out\n",
        ");\n",
        "  reg [7:0] count;\n",
        "  always @(posedge clk or posedge rst) begin\n",
        "    if (rst) count <= 8'h00;\n",
        "    else if (enable) count <= count + 1;\n",
        "  end\n",
        "  assign count_out = count;\n",
        "endmodule\n",
        "\"\"\"\n",
        "\n",
        "# Save input Verilog\n",
        "with open('/content/simple_counter.v', 'w') as f:\n",
        "    f.write(input_verilog)\n",
        "\n",
        "# Run xform\n",
        "os.system('python /content/xform_module_name.py /content/simple_counter.v /content/advanced_counter.v --from simple_counter --to advanced_counter')\n",
        "\n",
        "# Specification: Module name changed to 'advanced_counter', rest unchanged\n",
        "def check_xform_spec(input_file, output_file):\n",
        "    try:\n",
        "        ast_in, _ = parse([input_file])\n",
        "        ast_out, _ = parse([output_file])\n",
        "\n",
        "        in_module = ast_in.description.items[0].name\n",
        "        out_module = ast_out.description.items[0].name\n",
        "\n",
        "        # Compare ASTs (ignoring module name)\n",
        "        in_ast_str = str(ast_in.description).replace(in_module, 'temp')\n",
        "        out_ast_str = str(ast_out.description).replace(out_module, 'temp')\n",
        "\n",
        "        if out_module == 'advanced_counter' and in_ast_str == out_ast_str:\n",
        "            print(\"xform adheres to specification: Module name changed to 'advanced_counter', logic unchanged.\")\n",
        "        else:\n",
        "            print(f\"xform failed specification: Output module={out_module}, Logic match={in_ast_str == out_ast_str}\")\n",
        "    except Exception as e:\n",
        "        print(f\"Error parsing Verilog: {e}\")\n",
        "\n",
        "# Run check\n",
        "check_xform_spec('/content/simple_counter.v', '/content/advanced_counter.v')"
      ],
      "metadata": {
        "colab": {
          "base_uri": "https://localhost:8080/"
        },
        "id": "RGayfuomXhef",
        "outputId": "bc5cc7d1-8ed5-4006-f39b-b6b15ed1f04a"
      },
      "execution_count": null,
      "outputs": [
        {
          "output_type": "stream",
          "name": "stdout",
          "text": [
            "Requirement already satisfied: pyverilog in /usr/local/lib/python3.11/dist-packages (1.3.0)\n",
            "Requirement already satisfied: Jinja2>=2.10 in /usr/local/lib/python3.11/dist-packages (from pyverilog) (3.1.6)\n",
            "Requirement already satisfied: ply>=3.4 in /usr/local/lib/python3.11/dist-packages (from pyverilog) (3.11)\n",
            "Requirement already satisfied: MarkupSafe>=2.0 in /usr/local/lib/python3.11/dist-packages (from Jinja2>=2.10->pyverilog) (3.0.2)\n"
          ]
        },
        {
          "output_type": "stream",
          "name": "stderr",
          "text": [
            "Generating LALR tables\n"
          ]
        },
        {
          "output_type": "stream",
          "name": "stdout",
          "text": [
            "Error parsing Verilog: [Errno 2] No such file or directory: 'iverilog'\n"
          ]
        },
        {
          "output_type": "stream",
          "name": "stderr",
          "text": [
            "WARNING: 183 shift/reduce conflicts\n"
          ]
        }
      ]
    },
    {
      "cell_type": "code",
      "source": [
        "!pip install pylint pyverilog\n",
        "\n",
        "import pylint.lint\n",
        "import os\n",
        "from pyverilog.vparser.parser import parse\n",
        "\n",
        "# Example xform Python script (abbreviated)\n",
        "xform_code = \"\"\"\n",
        "import re\n",
        "def transform_module_name(input_file, output_file, from_name, to_name):\n",
        "    with open(input_file, \"r\") as f:\n",
        "        content = f.read()\n",
        "    pattern = r\"\\\\bmodule\\\\s+\" + re.escape(from_name) + r\"\\\\b\"\n",
        "    replacement = f\"module {to_name}\"\n",
        "    modified_content = re.sub(pattern, replacement, content)\n",
        "    with open(output_file, \"w\") as f:\n",
        "        f.write(modified_content)\n",
        "    return True\n",
        "\"\"\"\n",
        "\n",
        "# Save xform script\n",
        "with open('/content/xform_module_name.py', 'w') as f:\n",
        "    f.write(xform_code)\n",
        "\n",
        "# Example input Verilog (simple_counter)\n",
        "input_verilog = \"\"\"\n",
        "module simple_counter (\n",
        "  input clk, rst, enable,\n",
        "  output [7:0] count_out\n",
        ");\n",
        "  reg [7:0] count;\n",
        "  always @(posedge clk or posedge rst) begin\n",
        "    if (rst) count <= 8'h00;\n",
        "    else if (enable) count <= count + 1;\n",
        "  end\n",
        "  assign count_out = count;\n",
        "endmodule\n",
        "\"\"\"\n",
        "\n",
        "# Save input Verilog\n",
        "with open('/content/simple_counter.v', 'w') as f:\n",
        "    f.write(input_verilog)\n",
        "\n",
        "# Run Pylint on xform script\n",
        "try:\n",
        "    pylint_args = ['--disable=all', '--enable=invalid-name,missing-docstring,missing-function-docstring,too-few-public-methods', '/content/xform_module_name.py']\n",
        "    pylint.lint.Run(pylint_args)\n",
        "    print(\"Pylint readability check completed for xform script.\")\n",
        "except SystemExit as e:\n",
        "    print(f\"Pylint readability check completed with issues: {e}\")\n",
        "\n",
        "# Run xform\n",
        "os.system('python /content/xform_module_name.py /content/simple_counter.v /content/advanced_counter.v --from simple_counter --to advanced_counter')\n",
        "\n",
        "# Check output Verilog readability\n",
        "def check_verilog_readability(file_path):\n",
        "    try:\n",
        "        ast, _ = parse([file_path])\n",
        "        module_count = 0\n",
        "        port_decls = 0\n",
        "        consistent_naming = True\n",
        "        names = []\n",
        "\n",
        "        for item in ast.description.items:\n",
        "            if isinstance(item, pyverilog.vparser.ast.ModuleDef):\n",
        "                module_count += 1\n",
        "                names.append(item.name)\n",
        "                for port in item.portlist.ports:\n",
        "                    port_decls += 1\n",
        "                    names.append(port.first.name)\n",
        "\n",
        "        for name in names:\n",
        "            if not name.islower():\n",
        "                consistent_naming = False\n",
        "\n",
        "        if module_count == 1 and port_decls >= 4 and consistent_naming:\n",
        "            print(f\"{file_path}: Readable - single module, sufficient ports, consistent naming.\")\n",
        "        else:\n",
        "            print(f\"{file_path}: Readability issues - Modules={module_count}, Ports={port_decls}, Consistent naming={consistent_naming}\")\n",
        "    except Exception as e:\n",
        "        print(f\"Error parsing {file_path}: {e}\")\n",
        "\n",
        "check_verilog_readability('/content/advanced_counter.v')\n",
        "\n",
        "# Verilator lint script for local execution\n",
        "verilator_script = \"\"\"\n",
        "verilator --lint-only -Wall advanced_counter.v\n",
        "\"\"\"\n",
        "\n",
        "# Save Verilator command\n",
        "with open('/content/lint_advanced_counter.sh', 'w') as f:\n",
        "    f.write(verilator_script)\n",
        "\n",
        "print(\"Run 'sh lint_advanced_counter.sh' locally with Verilator for detailed style checks.\")"
      ],
      "metadata": {
        "colab": {
          "base_uri": "https://localhost:8080/"
        },
        "id": "Zq8zLzDTYo4R",
        "outputId": "b043bc7d-f4b2-4109-917a-12571c83b4c5"
      },
      "execution_count": null,
      "outputs": [
        {
          "output_type": "stream",
          "name": "stdout",
          "text": [
            "Requirement already satisfied: pylint in /usr/local/lib/python3.11/dist-packages (3.3.7)\n",
            "Requirement already satisfied: pyverilog in /usr/local/lib/python3.11/dist-packages (1.3.0)\n",
            "Requirement already satisfied: astroid<=3.4.0.dev0,>=3.3.8 in /usr/local/lib/python3.11/dist-packages (from pylint) (3.3.10)\n",
            "Requirement already satisfied: dill>=0.3.6 in /usr/local/lib/python3.11/dist-packages (from pylint) (0.3.7)\n",
            "Requirement already satisfied: isort!=5.13,<7,>=4.2.5 in /usr/local/lib/python3.11/dist-packages (from pylint) (6.0.1)\n",
            "Requirement already satisfied: mccabe<0.8,>=0.6 in /usr/local/lib/python3.11/dist-packages (from pylint) (0.7.0)\n",
            "Requirement already satisfied: platformdirs>=2.2 in /usr/local/lib/python3.11/dist-packages (from pylint) (4.3.8)\n",
            "Requirement already satisfied: tomlkit>=0.10.1 in /usr/local/lib/python3.11/dist-packages (from pylint) (0.13.2)\n",
            "Requirement already satisfied: Jinja2>=2.10 in /usr/local/lib/python3.11/dist-packages (from pyverilog) (3.1.6)\n",
            "Requirement already satisfied: ply>=3.4 in /usr/local/lib/python3.11/dist-packages (from pyverilog) (3.11)\n",
            "Requirement already satisfied: MarkupSafe>=2.0 in /usr/local/lib/python3.11/dist-packages (from Jinja2>=2.10->pyverilog) (3.0.2)\n",
            "************* Module xform_module_name\n",
            "xform_module_name.py:1:0: C0114: Missing module docstring (missing-module-docstring)\n",
            "xform_module_name.py:10:0: C0116: Missing function or method docstring (missing-function-docstring)\n",
            "\n",
            "-----------------------------------\n",
            "Your code has been rated at 9.29/10\n",
            "\n",
            "Pylint readability check completed with issues: 16\n"
          ]
        },
        {
          "output_type": "stream",
          "name": "stderr",
          "text": [
            "Generating LALR tables\n"
          ]
        },
        {
          "output_type": "stream",
          "name": "stdout",
          "text": [
            "Error parsing /content/advanced_counter.v: [Errno 2] No such file or directory: 'iverilog'\n",
            "Run 'sh lint_advanced_counter.sh' locally with Verilator for detailed style checks.\n"
          ]
        },
        {
          "output_type": "stream",
          "name": "stderr",
          "text": [
            "WARNING: 183 shift/reduce conflicts\n"
          ]
        }
      ]
    },
    {
      "cell_type": "markdown",
      "source": [
        "05. Pyverilog"
      ],
      "metadata": {
        "id": "WYRVBKLROIAJ"
      }
    },
    {
      "cell_type": "code",
      "source": [
        "# Colab script to check syntactic correctness of Python-to-Verilog script and output\n",
        "!pip install pyverilog pylint\n",
        "\n",
        "import py_compile\n",
        "import pylint.lint\n",
        "import os\n",
        "from pyverilog.vparser.parser import parse\n",
        "\n",
        "# Example Python-to-Verilog script (part-select variation from your prompt)\n",
        "python_verilog_code = \"\"\"\n",
        "from pyverilog.vparser.ast import *\n",
        "from pyverilog.ast_code_generator.codegen import ASTCodeGenerator\n",
        "\n",
        "def main():\n",
        "    width = Width(IntConst('3'), IntConst('0'))\n",
        "    a = Ioport(Input('A', width=width))\n",
        "    b = Ioport(Input('B', width=width))\n",
        "    y = Ioport(Output('Y', width=width))\n",
        "    ports = Portlist([a, b, y])\n",
        "    assign = Assign(\n",
        "        Lvalue(Partselect(Identifier('Y'), IntConst('1'), IntConst('0'))),\n",
        "        Rvalue(And(\n",
        "            Partselect(Identifier('A'), IntConst('1'), IntConst('0')),\n",
        "            Partselect(Identifier('B'), IntConst('1'), IntConst('0'))\n",
        "        ))\n",
        "    )\n",
        "    items = [assign]\n",
        "    ast = ModuleDef(\"and_gate_array_partselect\", None, ports, items)\n",
        "    codegen = ASTCodeGenerator()\n",
        "    rslt = codegen.visit(ast)\n",
        "    with open(\"and_gate_array_partselect.v\", \"w\") as f:\n",
        "        f.write(rslt)\n",
        "\n",
        "if __name__ == '__main__':\n",
        "    main()\n",
        "\"\"\"\n",
        "\n",
        "# Save the Python script\n",
        "with open('/content/and_gate_array_partselect.py', 'w') as f:\n",
        "    f.write(python_verilog_code)\n",
        "\n",
        "# Check Python syntax with py_compile\n",
        "try:\n",
        "    py_compile.compile('/content/and_gate_array_partselect.py', doraise=True)\n",
        "    print(\"Python-to-Verilog script is syntactically correct (py_compile check passed).\")\n",
        "except py_compile.PyCompileError as e:\n",
        "    print(f\"Syntax error in Python-to-Verilog script: {e}\")\n",
        "\n",
        "# Check with Pylint\n",
        "try:\n",
        "    pylint_args = ['--errors-only', '/content/and_gate_array_partselect.py']\n",
        "    pylint.lint.Run(pylint_args)\n",
        "    print(\"Pylint check passed for Python-to-Verilog script (no syntax errors).\")\n",
        "except SystemExit as e:\n",
        "    print(f\"Pylint detected issues in Python-to-Verilog script: {e}\")\n",
        "\n",
        "# Run the Python script to generate Verilog\n",
        "os.system('python /content/and_gate_array_partselect.py')\n",
        "\n",
        "# Check generated Verilog syntax\n",
        "try:\n",
        "    ast, directives = parse(['/content/and_gate_array_partselect.v'])\n",
        "    print(\"Generated Verilog (and_gate_array_partselect.v) is syntactically correct (Pyverilog parse passed).\")\n",
        "except Exception as e:\n",
        "    print(f\"Syntax error in generated Verilog: {e}\")"
      ],
      "metadata": {
        "colab": {
          "base_uri": "https://localhost:8080/"
        },
        "id": "hutE9t-OOMA_",
        "outputId": "36cdedce-9944-4c28-814b-2a322e365bdd"
      },
      "execution_count": null,
      "outputs": [
        {
          "output_type": "stream",
          "name": "stdout",
          "text": [
            "Requirement already satisfied: pyverilog in /usr/local/lib/python3.11/dist-packages (1.3.0)\n",
            "Requirement already satisfied: pylint in /usr/local/lib/python3.11/dist-packages (3.3.7)\n",
            "Requirement already satisfied: Jinja2>=2.10 in /usr/local/lib/python3.11/dist-packages (from pyverilog) (3.1.6)\n",
            "Requirement already satisfied: ply>=3.4 in /usr/local/lib/python3.11/dist-packages (from pyverilog) (3.11)\n",
            "Requirement already satisfied: astroid<=3.4.0.dev0,>=3.3.8 in /usr/local/lib/python3.11/dist-packages (from pylint) (3.3.10)\n",
            "Requirement already satisfied: dill>=0.3.6 in /usr/local/lib/python3.11/dist-packages (from pylint) (0.3.7)\n",
            "Requirement already satisfied: isort!=5.13,<7,>=4.2.5 in /usr/local/lib/python3.11/dist-packages (from pylint) (6.0.1)\n",
            "Requirement already satisfied: mccabe<0.8,>=0.6 in /usr/local/lib/python3.11/dist-packages (from pylint) (0.7.0)\n",
            "Requirement already satisfied: platformdirs>=2.2 in /usr/local/lib/python3.11/dist-packages (from pylint) (4.3.8)\n",
            "Requirement already satisfied: tomlkit>=0.10.1 in /usr/local/lib/python3.11/dist-packages (from pylint) (0.13.2)\n",
            "Requirement already satisfied: MarkupSafe>=2.0 in /usr/local/lib/python3.11/dist-packages (from Jinja2>=2.10->pyverilog) (3.0.2)\n",
            "Python-to-Verilog script is syntactically correct (py_compile check passed).\n",
            "Pylint detected issues in Python-to-Verilog script: 0\n"
          ]
        },
        {
          "output_type": "stream",
          "name": "stderr",
          "text": [
            "Generating LALR tables\n"
          ]
        },
        {
          "output_type": "stream",
          "name": "stdout",
          "text": [
            "Syntax error in generated Verilog: [Errno 2] No such file or directory: 'iverilog'\n"
          ]
        },
        {
          "output_type": "stream",
          "name": "stderr",
          "text": [
            "WARNING: 183 shift/reduce conflicts\n"
          ]
        }
      ]
    },
    {
      "cell_type": "code",
      "source": [
        "# Colab script to check functional correctness of Python-to-Verilog output\n",
        "!pip install pyverilog\n",
        "\n",
        "from pyverilog.vparser.parser import parse\n",
        "import os\n",
        "\n",
        "# Python-to-Verilog script (part-select variation from your prompt)\n",
        "python_verilog_code = \"\"\"\n",
        "from pyverilog.vparser.ast import *\n",
        "from pyverilog.ast_code_generator.codegen import ASTCodeGenerator\n",
        "\n",
        "def main():\n",
        "    width = Width(IntConst('3'), IntConst('0'))\n",
        "    a = Ioport(Input('A', width=width))\n",
        "    b = Ioport(Input('B', width=width))\n",
        "    y = Ioport(Output('Y', width=width))\n",
        "    ports = Portlist([a, b, y])\n",
        "    assign = Assign(\n",
        "        Lvalue(Partselect(Identifier('Y'), IntConst('1'), IntConst('0'))),\n",
        "        Rvalue(And(\n",
        "            Partselect(Identifier('A'), IntConst('1'), IntConst('0')),\n",
        "            Partselect(Identifier('B'), IntConst('1'), IntConst('0'))\n",
        "        ))\n",
        "    )\n",
        "    items = [assign]\n",
        "    ast = ModuleDef(\"and_gate_array_partselect\", None, ports, items)\n",
        "    codegen = ASTCodeGenerator()\n",
        "    rslt = codegen.visit(ast)\n",
        "    with open(\"and_gate_array_partselect.v\", \"w\") as f:\n",
        "        f.write(rslt)\n",
        "\n",
        "if __name__ == '__main__':\n",
        "    main()\n",
        "\"\"\"\n",
        "\n",
        "# Save Python script\n",
        "with open('/content/and_gate_array_partselect.py', 'w') as f:\n",
        "    f.write(python_verilog_code)\n",
        "\n",
        "# Run Python script to generate Verilog\n",
        "os.system('python /content/and_gate_array_partselect.py')\n",
        "\n",
        "# Testbench for generated Verilog\n",
        "testbench_code = \"\"\"\n",
        "module tb_and_gate_array_partselect;\n",
        "    reg [3:0] A, B;\n",
        "    wire [3:0] Y;\n",
        "    and_gate_array_partselect dut (.A(A), .B(B), .Y(Y));\n",
        "    initial begin\n",
        "        $monitor(\"A[1:0]=%b, B[1:0]=%b, Y[1:0]=%b\", A[1:0], B[1:0], Y[1:0]);\n",
        "        A = 4'b0000; B = 4'b0000; #10;\n",
        "        A = 4'b0010; B = 4'b0011; #10;\n",
        "        A = 4'b0011; B = 4'b0011; #10;\n",
        "        $finish;\n",
        "    end\n",
        "endmodule\n",
        "\"\"\"\n",
        "\n",
        "# Save testbench\n",
        "with open('/content/tb_and_gate_array_partselect.v', 'w') as f:\n",
        "    f.write(testbench_code)\n",
        "\n",
        "# Basic AST check in Colab\n",
        "try:\n",
        "    ast, _ = parse(['/content/and_gate_array_partselect.v'])\n",
        "    for item in ast.description.items:\n",
        "        for decl in item.items:\n",
        "            if isinstance(decl, pyverilog.vparser.ast.Assign):\n",
        "                if 'A[1:0] & B[1:0]' in str(decl.right):\n",
        "                    print(\"Generated Verilog has correct part-select AND operation (AST check passed).\")\n",
        "                else:\n",
        "                    print(\"Incorrect operation in generated Verilog.\")\n",
        "except Exception as e:\n",
        "    print(f\"Error parsing generated Verilog: {e}\")\n",
        "\n",
        "print(\"Testbench saved as tb_and_gate_array_partselect.v. Run locally with Verilator.\")"
      ],
      "metadata": {
        "colab": {
          "base_uri": "https://localhost:8080/"
        },
        "id": "kVv5u7VOSBat",
        "outputId": "15d20046-58c7-4bf7-a91d-135e58229bb4"
      },
      "execution_count": null,
      "outputs": [
        {
          "output_type": "stream",
          "name": "stdout",
          "text": [
            "Requirement already satisfied: pyverilog in /usr/local/lib/python3.11/dist-packages (1.3.0)\n",
            "Requirement already satisfied: Jinja2>=2.10 in /usr/local/lib/python3.11/dist-packages (from pyverilog) (3.1.6)\n",
            "Requirement already satisfied: ply>=3.4 in /usr/local/lib/python3.11/dist-packages (from pyverilog) (3.11)\n",
            "Requirement already satisfied: MarkupSafe>=2.0 in /usr/local/lib/python3.11/dist-packages (from Jinja2>=2.10->pyverilog) (3.0.2)\n"
          ]
        },
        {
          "output_type": "stream",
          "name": "stderr",
          "text": [
            "Generating LALR tables\n"
          ]
        },
        {
          "output_type": "stream",
          "name": "stdout",
          "text": [
            "Error parsing generated Verilog: [Errno 2] No such file or directory: 'iverilog'\n",
            "Testbench saved as tb_and_gate_array_partselect.v. Run locally with Verilator.\n"
          ]
        },
        {
          "output_type": "stream",
          "name": "stderr",
          "text": [
            "WARNING: 183 shift/reduce conflicts\n"
          ]
        }
      ]
    },
    {
      "cell_type": "code",
      "source": [
        "# Colab script to check efficiency of Python-to-Verilog script and output\n",
        "!pip install pyverilog memory_profiler\n",
        "\n",
        "import time\n",
        "import memory_profiler\n",
        "import os\n",
        "from pyverilog.vparser.parser import parse\n",
        "\n",
        "# Python-to-Verilog script (part-select variation)\n",
        "python_verilog_code = \"\"\"\n",
        "from pyverilog.vparser.ast import *\n",
        "from pyverilog.ast_code_generator.codegen import ASTCodeGenerator\n",
        "\n",
        "def main():\n",
        "    width = Width(IntConst('3'), IntConst('0'))\n",
        "    a = Ioport(Input('A', width=width))\n",
        "    b = Ioport(Input('B', width=width))\n",
        "    y = Ioport(Output('Y', width=width))\n",
        "    ports = Portlist([a, b, y])\n",
        "    assign = Assign(\n",
        "        Lvalue(Partselect(Identifier('Y'), IntConst('1'), IntConst('0'))),\n",
        "        Rvalue(And(\n",
        "            Partselect(Identifier('A'), IntConst('1'), IntConst('0')),\n",
        "            Partselect(Identifier('B'), IntConst('1'), IntConst('0'))\n",
        "        ))\n",
        "    )\n",
        "    items = [assign]\n",
        "    ast = ModuleDef(\"and_gate_array_partselect\", None, ports, items)\n",
        "    codegen = ASTCodeGenerator()\n",
        "    rslt = codegen.visit(ast)\n",
        "    with open(\"and_gate_array_partselect.v\", \"w\") as f:\n",
        "        f.write(rslt)\n",
        "\n",
        "if __name__ == '__main__':\n",
        "    main()\n",
        "\"\"\"\n",
        "\n",
        "# Save Python script\n",
        "with open('/content/and_gate_array_partselect.py', 'w') as f:\n",
        "    f.write(python_verilog_code)\n",
        "\n",
        "# Test script for runtime and memory\n",
        "test_code = \"\"\"\n",
        "from memory_profiler import profile\n",
        "from and_gate_array_partselect import main\n",
        "\n",
        "@profile\n",
        "def run_test():\n",
        "    main()\n",
        "\n",
        "if __name__ == '__main__':\n",
        "    import time\n",
        "    start_time = time.perf_counter()\n",
        "    run_test()\n",
        "    end_time = time.perf_counter()\n",
        "    print(f\"Runtime: {end_time - start_time:.6f} seconds\")\n",
        "\"\"\"\n",
        "\n",
        "# Save test script\n",
        "with open('/content/test_and_gate_array_partselect.py', 'w') as f:\n",
        "    f.write(test_code)\n",
        "\n",
        "# Run test\n",
        "!python /content/test_and_gate_array_partselect.py\n",
        "\n",
        "# Analyze generated Verilog complexity\n",
        "try:\n",
        "    ast, _ = parse(['/content/and_gate_array_partselect.v'])\n",
        "    operation_count = 0\n",
        "    for item in ast.description.items:\n",
        "        for decl in item.items:\n",
        "            if isinstance(decl, pyverilog.vparser.ast.Assign):\n",
        "                operation_count += 1\n",
        "    print(f\"Generated Verilog: Operation count: {operation_count}\")\n",
        "except Exception as e:\n",
        "    print(f\"Error parsing generated Verilog: {e}\")\n",
        "\n",
        "# Yosys script for local synthesis\n",
        "yosys_script = \"\"\"\n",
        "read_verilog and_gate_array_partselect.v\n",
        "synth -top and_gate_array_partselect\n",
        "stat\n",
        "\"\"\"\n",
        "\n",
        "# Save Yosys script\n",
        "with open('/content/synth_and_gate_array_partselect.ys', 'w') as f:\n",
        "    f.write(yosys_script)\n",
        "\n",
        "print(\"Yosys script saved as synth_and_gate_array_partselect.ys. Run locally for synthesis metrics.\")"
      ],
      "metadata": {
        "colab": {
          "base_uri": "https://localhost:8080/"
        },
        "id": "M0knPOlfVhF8",
        "outputId": "81666432-ed8f-49f6-edca-a4a9cdaa7e83"
      },
      "execution_count": null,
      "outputs": [
        {
          "output_type": "stream",
          "name": "stdout",
          "text": [
            "Requirement already satisfied: pyverilog in /usr/local/lib/python3.11/dist-packages (1.3.0)\n",
            "Requirement already satisfied: memory_profiler in /usr/local/lib/python3.11/dist-packages (0.61.0)\n",
            "Requirement already satisfied: Jinja2>=2.10 in /usr/local/lib/python3.11/dist-packages (from pyverilog) (3.1.6)\n",
            "Requirement already satisfied: ply>=3.4 in /usr/local/lib/python3.11/dist-packages (from pyverilog) (3.11)\n",
            "Requirement already satisfied: psutil in /usr/local/lib/python3.11/dist-packages (from memory_profiler) (5.9.5)\n",
            "Requirement already satisfied: MarkupSafe>=2.0 in /usr/local/lib/python3.11/dist-packages (from Jinja2>=2.10->pyverilog) (3.0.2)\n",
            "Filename: /content/test_and_gate_array_partselect.py\n",
            "\n",
            "Line #    Mem usage    Increment  Occurrences   Line Contents\n",
            "=============================================================\n",
            "     5     43.9 MiB     43.9 MiB           1   @profile\n",
            "     6                                         def run_test():\n",
            "     7     44.1 MiB      0.3 MiB           1       main()\n",
            "\n",
            "\n",
            "Runtime: 0.084731 seconds\n"
          ]
        },
        {
          "output_type": "stream",
          "name": "stderr",
          "text": [
            "Generating LALR tables\n"
          ]
        },
        {
          "output_type": "stream",
          "name": "stdout",
          "text": [
            "Error parsing generated Verilog: [Errno 2] No such file or directory: 'iverilog'\n",
            "Yosys script saved as synth_and_gate_array_partselect.ys. Run locally for synthesis metrics.\n"
          ]
        },
        {
          "output_type": "stream",
          "name": "stderr",
          "text": [
            "WARNING: 183 shift/reduce conflicts\n"
          ]
        }
      ]
    },
    {
      "cell_type": "code",
      "source": [
        "!pip install pyverilog\n",
        "\n",
        "import os\n",
        "from pyverilog.vparser.parser import parse\n",
        "\n",
        "# Python-to-Verilog script (part-select variation)\n",
        "python_verilog_code = \"\"\"\n",
        "from pyverilog.vparser.ast import *\n",
        "from pyverilog.ast_code_generator.codegen import ASTCodeGenerator\n",
        "\n",
        "def main():\n",
        "    width = Width(IntConst('3'), IntConst('0'))\n",
        "    a = Ioport(Input('A', width=width))\n",
        "    b = Ioport(Input('B', width=width))\n",
        "    y = Ioport(Output('Y', width=width))\n",
        "    ports = Portlist([a, b, y])\n",
        "    assign = Assign(\n",
        "        Lvalue(Partselect(Identifier('Y'), IntConst('1'), IntConst('0'))),\n",
        "        Rvalue(And(\n",
        "            Partselect(Identifier('A'), IntConst('1'), IntConst('0')),\n",
        "            Partselect(Identifier('B'), IntConst('1'), IntConst('0'))\n",
        "        ))\n",
        "    )\n",
        "    items = [assign]\n",
        "    ast = ModuleDef(\"and_gate_array_partselect\", None, ports, items)\n",
        "    codegen = ASTCodeGenerator()\n",
        "    rslt = codegen.visit(ast)\n",
        "    with open(\"and_gate_array_partselect.v\", \"w\") as f:\n",
        "        f.write(rslt)\n",
        "\n",
        "if __name__ == '__main__':\n",
        "    main()\n",
        "\"\"\"\n",
        "\n",
        "# Save Python script\n",
        "with open('/content/and_gate_array_partselect.py', 'w') as f:\n",
        "    f.write(python_verilog_code)\n",
        "\n",
        "# Run Python script\n",
        "os.system('python /content/and_gate_array_partselect.py')\n",
        "\n",
        "# Specification: Module 'and_gate_array_partselect' with 4-bit ports, Y[1:0] = A[1:0] & B[1:0]\n",
        "def check_python_verilog_spec(file_path):\n",
        "    try:\n",
        "        ast, _ = parse([file_path])\n",
        "        module_name = None\n",
        "        inputs = []\n",
        "        outputs = []\n",
        "        has_partselect = False\n",
        "\n",
        "        for item in ast.description.items:\n",
        "            if isinstance(item, pyverilog.vparser.ast.ModuleDef):\n",
        "                module_name = item.name\n",
        "                for port in item.portlist.ports:\n",
        "                    if isinstance(port, pyverilog.vparser.ast.Ioport):\n",
        "                        if isinstance(port.first, pyverilog.vparser.ast.Input):\n",
        "                            inputs.append((port.first.name, str(port.first.width)))\n",
        "                        elif isinstance(port.first, pyverilog.vparser.ast.Output):\n",
        "                            outputs.append((port.first.name, str(port.first.width)))\n",
        "                for decl in item.items:\n",
        "                    if isinstance(decl, pyverilog.vparser.ast.Assign):\n",
        "                        if ('Y[1:0]' in str(decl.left) and\n",
        "                            'A[1:0] & B[1:0]' in str(decl.right)):\n",
        "                            has_partselect = True\n",
        "\n",
        "        expected_width = \"Width(msb=IntConst('3'), lsb=IntConst('0'))\"\n",
        "        if (module_name == 'and_gate_array_partselect' and\n",
        "            inputs == [('A', expected_width), ('B', expected_width)] and\n",
        "            outputs == [('Y', expected_width)] and\n",
        "            has_partselect):\n",
        "            print(\"Generated Verilog adheres to specification: Correct module, ports, and part-select operation.\")\n",
        "        else:\n",
        "            print(f\"Specification check failed: Module={module_name}, Inputs={inputs}, Outputs={outputs}, Has_partselect={has_partselect}\")\n",
        "    except Exception as e:\n",
        "        print(f\"Error parsing generated Verilog: {e}\")\n",
        "\n",
        "# Run check\n",
        "check_python_verilog_spec('/content/and_gate_array_partselect.v')"
      ],
      "metadata": {
        "colab": {
          "base_uri": "https://localhost:8080/"
        },
        "id": "MPJhkgJ1Xq__",
        "outputId": "f936a793-a27e-442d-bac8-2a865096183a"
      },
      "execution_count": null,
      "outputs": [
        {
          "output_type": "stream",
          "name": "stdout",
          "text": [
            "Requirement already satisfied: pyverilog in /usr/local/lib/python3.11/dist-packages (1.3.0)\n",
            "Requirement already satisfied: Jinja2>=2.10 in /usr/local/lib/python3.11/dist-packages (from pyverilog) (3.1.6)\n",
            "Requirement already satisfied: ply>=3.4 in /usr/local/lib/python3.11/dist-packages (from pyverilog) (3.11)\n",
            "Requirement already satisfied: MarkupSafe>=2.0 in /usr/local/lib/python3.11/dist-packages (from Jinja2>=2.10->pyverilog) (3.0.2)\n"
          ]
        },
        {
          "output_type": "stream",
          "name": "stderr",
          "text": [
            "Generating LALR tables\n"
          ]
        },
        {
          "output_type": "stream",
          "name": "stdout",
          "text": [
            "Error parsing generated Verilog: [Errno 2] No such file or directory: 'iverilog'\n"
          ]
        },
        {
          "output_type": "stream",
          "name": "stderr",
          "text": [
            "WARNING: 183 shift/reduce conflicts\n"
          ]
        }
      ]
    },
    {
      "cell_type": "code",
      "source": [
        "!pip install pylint pyverilog\n",
        "\n",
        "import pylint.lint\n",
        "import os\n",
        "from pyverilog.vparser.parser import parse\n",
        "\n",
        "# Python-to-Verilog script (part-select variation)\n",
        "python_verilog_code = \"\"\"\n",
        "from pyverilog.vparser.ast import *\n",
        "from pyverilog.ast_code_generator.codegen import ASTCodeGenerator\n",
        "\n",
        "def main():\n",
        "    width = Width(IntConst('3'), IntConst('0'))\n",
        "    a = Ioport(Input('A', width=width))\n",
        "    b = Ioport(Input('B', width=width))\n",
        "    y = Ioport(Output('Y', width=width))\n",
        "    ports = Portlist([a, b, y])\n",
        "    assign = Assign(\n",
        "        Lvalue(Partselect(Identifier('Y'), IntConst('1'), IntConst('0'))),\n",
        "        Rvalue(And(\n",
        "            Partselect(Identifier('A'), IntConst('1'), IntConst('0')),\n",
        "            Partselect(Identifier('B'), IntConst('1'), IntConst('0'))\n",
        "        ))\n",
        "    )\n",
        "    items = [assign]\n",
        "    ast = ModuleDef(\"and_gate_array_partselect\", None, ports, items)\n",
        "    codegen = ASTCodeGenerator()\n",
        "    rslt = codegen.visit(ast)\n",
        "    with open(\"and_gate_array_partselect.v\", \"w\") as f:\n",
        "        f.write(rslt)\n",
        "\n",
        "if __name__ == '__main__':\n",
        "    main()\n",
        "\"\"\"\n",
        "\n",
        "# Save Python script\n",
        "with open('/content/and_gate_array_partselect.py', 'w') as f:\n",
        "    f.write(python_verilog_code)\n",
        "\n",
        "# Run Pylint on Python script\n",
        "try:\n",
        "    pylint_args = ['--disable=all', '--enable=invalid-name,missing-docstring,missing-function-docstring,too-few-public-methods', '/content/and_gate_array_partselect.py']\n",
        "    pylint.lint.Run(pylint_args)\n",
        "    print(\"Pylint readability check completed for Python-to-Verilog script.\")\n",
        "except SystemExit as e:\n",
        "    print(f\"Pylint readability check completed with issues: {e}\")\n",
        "\n",
        "# Run Python script\n",
        "os.system('python /content/and_gate_array_partselect.py')\n",
        "\n",
        "# Check generated Verilog readability\n",
        "def check_verilog_readability(file_path):\n",
        "    try:\n",
        "        ast, _ = parse([file_path])\n",
        "        module_count = 0\n",
        "        port_decls = 0\n",
        "        consistent_naming = True\n",
        "        names = []\n",
        "\n",
        "        for item in ast.description.items:\n",
        "            if isinstance(item, pyverilog.vparser.ast.ModuleDef):\n",
        "                module_count += 1\n",
        "                names.append(item.name)\n",
        "                for port in item.portlist.ports:\n",
        "                    port_decls += 1\n",
        "                    names.append(port.first.name)\n",
        "\n",
        "        for name in names:\n",
        "            if not name.islower():\n",
        "                consistent_naming = False\n",
        "\n",
        "        if module_count == 1 and port_decls >= 3 and consistent_naming:\n",
        "            print(f\"{file_path}: Readable - single module, sufficient ports, consistent naming.\")\n",
        "        else:\n",
        "            print(f\"{file_path}: Readability issues - Modules={module_count}, Ports={port_decls}, Consistent naming={consistent_naming}\")\n",
        "    except Exception as e:\n",
        "        print(f\"Error parsing {file_path}: {e}\")\n",
        "\n",
        "check_verilog_readability('/content/and_gate_array_partselect.v')\n",
        "\n",
        "# Verilator lint script for local execution\n",
        "verilator_script = \"\"\"\n",
        "verilator --lint-only -Wall and_gate_array_partselect.v\n",
        "\"\"\"\n",
        "\n",
        "# Save Verilator command\n",
        "with open('/content/lint_and_gate_array_partselect.sh', 'w') as f:\n",
        "    f.write(verilator_script)\n",
        "\n",
        "print(\"Run 'sh lint_and_gate_array_partselect.sh' locally with Verilator for detailed style checks.\")"
      ],
      "metadata": {
        "colab": {
          "base_uri": "https://localhost:8080/"
        },
        "id": "xc-z8arzYzcP",
        "outputId": "ba30563a-114f-4951-c769-12cc58826c13"
      },
      "execution_count": null,
      "outputs": [
        {
          "output_type": "stream",
          "name": "stdout",
          "text": [
            "Requirement already satisfied: pylint in /usr/local/lib/python3.11/dist-packages (3.3.7)\n",
            "Requirement already satisfied: pyverilog in /usr/local/lib/python3.11/dist-packages (1.3.0)\n",
            "Requirement already satisfied: astroid<=3.4.0.dev0,>=3.3.8 in /usr/local/lib/python3.11/dist-packages (from pylint) (3.3.10)\n",
            "Requirement already satisfied: dill>=0.3.6 in /usr/local/lib/python3.11/dist-packages (from pylint) (0.3.7)\n",
            "Requirement already satisfied: isort!=5.13,<7,>=4.2.5 in /usr/local/lib/python3.11/dist-packages (from pylint) (6.0.1)\n",
            "Requirement already satisfied: mccabe<0.8,>=0.6 in /usr/local/lib/python3.11/dist-packages (from pylint) (0.7.0)\n",
            "Requirement already satisfied: platformdirs>=2.2 in /usr/local/lib/python3.11/dist-packages (from pylint) (4.3.8)\n",
            "Requirement already satisfied: tomlkit>=0.10.1 in /usr/local/lib/python3.11/dist-packages (from pylint) (0.13.2)\n",
            "Requirement already satisfied: Jinja2>=2.10 in /usr/local/lib/python3.11/dist-packages (from pyverilog) (3.1.6)\n",
            "Requirement already satisfied: ply>=3.4 in /usr/local/lib/python3.11/dist-packages (from pyverilog) (3.11)\n",
            "Requirement already satisfied: MarkupSafe>=2.0 in /usr/local/lib/python3.11/dist-packages (from Jinja2>=2.10->pyverilog) (3.0.2)\n",
            "************* Module and_gate_array_partselect\n",
            "and_gate_array_partselect.py:1:0: C0114: Missing module docstring (missing-module-docstring)\n",
            "and_gate_array_partselect.py:5:0: C0116: Missing function or method docstring (missing-function-docstring)\n",
            "\n",
            "-----------------------------------\n",
            "Your code has been rated at 8.82/10\n",
            "\n",
            "Pylint readability check completed with issues: 16\n"
          ]
        },
        {
          "output_type": "stream",
          "name": "stderr",
          "text": [
            "Generating LALR tables\n"
          ]
        },
        {
          "output_type": "stream",
          "name": "stdout",
          "text": [
            "Error parsing /content/and_gate_array_partselect.v: [Errno 2] No such file or directory: 'iverilog'\n",
            "Run 'sh lint_and_gate_array_partselect.sh' locally with Verilator for detailed style checks.\n"
          ]
        },
        {
          "output_type": "stream",
          "name": "stderr",
          "text": [
            "WARNING: 183 shift/reduce conflicts\n"
          ]
        }
      ]
    }
  ]
}