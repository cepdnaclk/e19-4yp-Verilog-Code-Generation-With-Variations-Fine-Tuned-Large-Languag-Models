{
 "cells": [
  {
   "cell_type": "markdown",
   "id": "463d10d4",
   "metadata": {},
   "source": [
    "## Concatenate all files excluding commented out codes."
   ]
  },
  {
   "cell_type": "code",
   "execution_count": null,
   "id": "c4faf3f5",
   "metadata": {},
   "outputs": [
    {
     "name": "stdout",
     "output_type": "stream",
     "text": [
      "Merged 5 files into merged_dataset.yml\n"
     ]
    }
   ],
   "source": [
    "# import yaml\n",
    "# import glob\n",
    "\n",
    "# def load_yaml_excluding_comments(file_path):\n",
    "#     with open(file_path, 'r') as f:\n",
    "#         lines = f.readlines()\n",
    "#     # Remove commented-out blocks\n",
    "#     filtered_lines = []\n",
    "#     skip_block = False\n",
    "#     for line in lines:\n",
    "#         if line.strip().startswith(\"# - code:\"):\n",
    "#             skip_block = True\n",
    "#         if skip_block:\n",
    "#             if line.strip() == \"\":\n",
    "#                 skip_block = False\n",
    "#             continue\n",
    "#         if not skip_block and not line.strip().startswith(\"#\"):\n",
    "#             filtered_lines.append(line)\n",
    "#     filtered_content = ''.join(filtered_lines)\n",
    "#     return yaml.safe_load(filtered_content) or []\n",
    "\n",
    "# def merge_datasets(file_paths, output_path):\n",
    "#     merged = []\n",
    "#     for file_path in file_paths:\n",
    "#         data = load_yaml_excluding_comments(file_path)\n",
    "#         merged.extend(data)\n",
    "#     with open(output_path, 'w') as f:\n",
    "#         yaml.dump(merged, f, sort_keys=False)\n",
    "\n",
    "# # === Example usage ===\n",
    "# # Adjust these file names as needed\n",
    "# file_paths = ['repos_data_01.yml', 'repos_data_02.yml', 'textbook_data_01.yml', 'textbook_data_02.yml', 'textbook_data_03.yml']\n",
    "# output_path = 'merged_dataset.yml'\n",
    "\n",
    "# merge_datasets(file_paths, output_path)\n",
    "# print(f\"Merged {len(file_paths)} files into {output_path}\")"
   ]
  },
  {
   "cell_type": "markdown",
   "id": "b8d14d24",
   "metadata": {},
   "source": [
    "### Number of codes "
   ]
  },
  {
   "cell_type": "code",
   "execution_count": 2,
   "id": "03a6ecec",
   "metadata": {},
   "outputs": [
    {
     "name": "stdout",
     "output_type": "stream",
     "text": [
      "Number of codes: 609\n"
     ]
    }
   ],
   "source": [
    "import yaml\n",
    "\n",
    "# Load the YAML file\n",
    "with open(\"merged_dataset.yml\", \"r\") as f:\n",
    "    data = yaml.safe_load(f)\n",
    "\n",
    "# Count entries where `code` is a string and has at least one newline (indicating block format)\n",
    "count = sum(\n",
    "    1 for entry in data if isinstance(entry.get(\"code\"), str) and '\\n' in entry[\"code\"]\n",
    ")\n",
    "\n",
    "print(f\"Number of codes: {count}\")"
   ]
  },
  {
   "cell_type": "markdown",
   "id": "f704e23a",
   "metadata": {},
   "source": [
    "## Get 100 samples"
   ]
  },
  {
   "cell_type": "code",
   "execution_count": 8,
   "id": "9079e825",
   "metadata": {},
   "outputs": [
    {
     "name": "stdout",
     "output_type": "stream",
     "text": [
      "Sampled 100 entries saved to 'sampled_100_entries.yml'\n"
     ]
    }
   ],
   "source": [
    "import random\n",
    "\n",
    "# Load the full YAML dataset\n",
    "with open(\"merged_dataset.yml\", \"r\") as f:\n",
    "    data = yaml.safe_load(f)\n",
    "\n",
    "# Sample 100 entries randomly\n",
    "sample_size = 100\n",
    "sampled_entries = random.sample(data, sample_size)\n",
    "\n",
    "# Define a custom string class and representer for block scalar style\n",
    "class LiteralStr(str): pass\n",
    "\n",
    "def str_presenter(dumper, data):\n",
    "    return dumper.represent_scalar('tag:yaml.org,2002:str', data, style='|')\n",
    "\n",
    "yaml.add_representer(LiteralStr, str_presenter)\n",
    "\n",
    "# Convert each code block to LiteralStr with actual newlines\n",
    "for entry in sampled_entries:\n",
    "    if isinstance(entry.get(\"code\"), str):\n",
    "        entry[\"code\"] = LiteralStr(entry[\"code\"].replace(\"\\\\n\", \"\\n\").replace(\"\\\\\\\\\", \"\\\\\"))\n",
    "\n",
    "# Save the formatted sample to a new YAML file\n",
    "with open(\"InferencingVerilog/sampled_100_entries.yml\", \"w\") as f:\n",
    "    yaml.dump(sampled_entries, f, sort_keys=False)\n",
    "\n",
    "print(\"Sampled 100 entries saved to 'sampled_100_entries.yml'\")"
   ]
  },
  {
   "cell_type": "markdown",
   "id": "28f710f4",
   "metadata": {},
   "source": [
    "### Checking the number of codes"
   ]
  },
  {
   "cell_type": "code",
   "execution_count": 2,
   "id": "45740a16",
   "metadata": {},
   "outputs": [
    {
     "name": "stdout",
     "output_type": "stream",
     "text": [
      "Number of codes: 100\n"
     ]
    }
   ],
   "source": [
    "import yaml\n",
    "\n",
    "# Load the YAML file\n",
    "with open(\"InferencingVerilog/sampled_100_entries.yml\", \"r\") as f:\n",
    "    data = yaml.safe_load(f)\n",
    "\n",
    "# Count entries where `code` is a string and has at least one newline (indicating block format)\n",
    "count = sum(\n",
    "    1 for entry in data if isinstance(entry.get(\"code\"), str) and '\\n' in entry[\"code\"]\n",
    ")\n",
    "\n",
    "print(f\"Number of codes: {count}\")"
   ]
  },
  {
   "cell_type": "code",
   "execution_count": null,
   "id": "64077130",
   "metadata": {},
   "outputs": [],
   "source": []
  }
 ],
 "metadata": {
  "kernelspec": {
   "display_name": "fypvenv",
   "language": "python",
   "name": "python3"
  },
  "language_info": {
   "codemirror_mode": {
    "name": "ipython",
    "version": 3
   },
   "file_extension": ".py",
   "mimetype": "text/x-python",
   "name": "python",
   "nbconvert_exporter": "python",
   "pygments_lexer": "ipython3",
   "version": "3.12.5"
  }
 },
 "nbformat": 4,
 "nbformat_minor": 5
}
