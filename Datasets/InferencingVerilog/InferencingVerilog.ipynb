{
 "cells": [
  {
   "cell_type": "markdown",
   "id": "0b21a3f5",
   "metadata": {},
   "source": [
    "## Categorizing into simple, medium and hard categories"
   ]
  },
  {
   "cell_type": "code",
   "execution_count": 11,
   "id": "b9dc95de",
   "metadata": {},
   "outputs": [
    {
     "name": "stdout",
     "output_type": "stream",
     "text": [
      "Categorized into simple.yml, medium.yml, and complex.yml.\n"
     ]
    }
   ],
   "source": [
    "import yaml\n",
    "\n",
    "# Load the already sampled 100 entries\n",
    "with open(\"sampled_100_entries.yml\", \"r\") as f:\n",
    "    sampled_data = yaml.safe_load(f)\n",
    "\n",
    "# Prepare YAML block scalar formatting\n",
    "class LiteralStr(str): pass\n",
    "\n",
    "def str_presenter(dumper, data):\n",
    "    return dumper.represent_scalar('tag:yaml.org,2002:str', data, style='|')\n",
    "\n",
    "yaml.add_representer(LiteralStr, str_presenter)\n",
    "\n",
    "# Create buckets\n",
    "simple, medium, complex = [], [], []\n",
    "\n",
    "# Classify by code line count\n",
    "for entry in sampled_data:\n",
    "    code = entry.get(\"code\", \"\")\n",
    "    formatted_code = code.replace(\"\\\\n\", \"\\n\").replace(\"\\\\\\\\\", \"\\\\\")\n",
    "    entry[\"code\"] = LiteralStr(formatted_code)\n",
    "\n",
    "    line_count = formatted_code.count(\"\\n\") + 1\n",
    "    if line_count <= 9:\n",
    "        simple.append(entry)\n",
    "    elif line_count <= 13:\n",
    "        medium.append(entry)\n",
    "    else:\n",
    "        complex.append(entry)\n",
    "\n",
    "# Save categorized datasets\n",
    "with open(\"simple.yml\", \"w\") as f:\n",
    "    yaml.dump(simple, f, sort_keys=False)\n",
    "\n",
    "with open(\"medium.yml\", \"w\") as f:\n",
    "    yaml.dump(medium, f, sort_keys=False)\n",
    "\n",
    "with open(\"complex.yml\", \"w\") as f:\n",
    "    yaml.dump(complex, f, sort_keys=False)\n",
    "\n",
    "print(\"Categorized into simple.yml, medium.yml, and complex.yml.\")"
   ]
  },
  {
   "cell_type": "markdown",
   "id": "6866f99f",
   "metadata": {},
   "source": [
    "### lengths of files"
   ]
  },
  {
   "cell_type": "code",
   "execution_count": 13,
   "id": "94c2b91c",
   "metadata": {},
   "outputs": [
    {
     "name": "stdout",
     "output_type": "stream",
     "text": [
      "Simple complexity: 35 code blocks\n",
      "Medium complexity: 35 code blocks\n",
      "Complex complexity: 30 code blocks\n"
     ]
    }
   ],
   "source": [
    "import yaml\n",
    "\n",
    "# Filenames\n",
    "files = {\n",
    "    \"Simple\": \"simple.yml\",\n",
    "    \"Medium\": \"medium.yml\",\n",
    "    \"Complex\": \"complex.yml\"\n",
    "}\n",
    "\n",
    "# Count entries in each file\n",
    "for label, filename in files.items():\n",
    "    with open(filename, \"r\") as f:\n",
    "        data = yaml.safe_load(f)\n",
    "        print(f\"{label} complexity: {len(data)} code blocks\")"
   ]
  },
  {
   "cell_type": "code",
   "execution_count": 14,
   "id": "cb34c32c",
   "metadata": {},
   "outputs": [
    {
     "name": "stdout",
     "output_type": "stream",
     "text": [
      "Simple codes: 35 code blocks\n",
      "Medium codes: 35 code blocks\n",
      "Complex codes: 30 code blocks\n"
     ]
    }
   ],
   "source": [
    "import yaml\n",
    "\n",
    "# Filenames\n",
    "files = {\n",
    "    \"Simple\": \"simple_codes.yml\",\n",
    "    \"Medium\": \"medium_codes.yml\",\n",
    "    \"Complex\": \"complex_codes.yml\"\n",
    "}\n",
    "\n",
    "# Count entries in each file\n",
    "for label, filename in files.items():\n",
    "    with open(filename, \"r\") as f:\n",
    "        data = yaml.safe_load(f)\n",
    "        print(f\"{label} codes: {len(data)} code blocks\")"
   ]
  },
  {
   "cell_type": "code",
   "execution_count": null,
   "id": "8e856b07",
   "metadata": {},
   "outputs": [],
   "source": []
  }
 ],
 "metadata": {
  "kernelspec": {
   "display_name": "fypvenv",
   "language": "python",
   "name": "python3"
  },
  "language_info": {
   "codemirror_mode": {
    "name": "ipython",
    "version": 3
   },
   "file_extension": ".py",
   "mimetype": "text/x-python",
   "name": "python",
   "nbconvert_exporter": "python",
   "pygments_lexer": "ipython3",
   "version": "3.12.5"
  }
 },
 "nbformat": 4,
 "nbformat_minor": 5
}
